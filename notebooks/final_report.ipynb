{
  "nbformat": 4,
  "nbformat_minor": 0,
  "metadata": {
    "colab": {
      "name": "final_report.ipynb",
      "provenance": [],
      "collapsed_sections": [],
      "toc_visible": true
    },
    "kernelspec": {
      "name": "python3",
      "display_name": "Python 3"
    },
    "accelerator": "GPU"
  },
  "cells": [
    {
      "cell_type": "markdown",
      "metadata": {
        "id": "AyQRBB79ScMm",
        "colab_type": "text"
      },
      "source": [
        "# Setting up the environment\n",
        "Don't forget to set the runtime to GPU.\n",
        "Mount your Google Drive. It'll be used to install the requirements and load the saved models.\n",
        "\n"
      ]
    },
    {
      "cell_type": "code",
      "metadata": {
        "id": "LjkUMpmsRgfN",
        "colab_type": "code",
        "colab": {
          "base_uri": "https://localhost:8080/",
          "height": 122
        },
        "outputId": "022b6ce7-4d32-48f7-d3e5-986e07bf1c23"
      },
      "source": [
        "from google.colab import drive\n",
        "drive.mount('/content/drive', force_remount=True)"
      ],
      "execution_count": null,
      "outputs": [
        {
          "output_type": "stream",
          "text": [
            "Go to this URL in a browser: https://accounts.google.com/o/oauth2/auth?client_id=947318989803-6bn6qk8qdgf4n4g3pfee6491hc0brc4i.apps.googleusercontent.com&redirect_uri=urn%3aietf%3awg%3aoauth%3a2.0%3aoob&response_type=code&scope=email%20https%3a%2f%2fwww.googleapis.com%2fauth%2fdocs.test%20https%3a%2f%2fwww.googleapis.com%2fauth%2fdrive%20https%3a%2f%2fwww.googleapis.com%2fauth%2fdrive.photos.readonly%20https%3a%2f%2fwww.googleapis.com%2fauth%2fpeopleapi.readonly\n",
            "\n",
            "Enter your authorization code:\n",
            "··········\n",
            "Mounted at /content/drive\n"
          ],
          "name": "stdout"
        }
      ]
    },
    {
      "cell_type": "markdown",
      "metadata": {
        "id": "TVPGvBg6TKcW",
        "colab_type": "text"
      },
      "source": [
        "Install requirements."
      ]
    },
    {
      "cell_type": "code",
      "metadata": {
        "id": "pZS4OOSdSz6W",
        "colab_type": "code",
        "colab": {
          "base_uri": "https://localhost:8080/",
          "height": 1000
        },
        "outputId": "a248cb87-7f1e-4be5-b826-9a8a16288b68"
      },
      "source": [
        "!pip install -r /content/drive/My\\ Drive/crowintelligence/projektek/manning/sentiment_analysis_project/Colab/requirements.txt"
      ],
      "execution_count": null,
      "outputs": [
        {
          "output_type": "stream",
          "text": [
            "Collecting altair==4.0.1\n",
            "\u001b[?25l  Downloading https://files.pythonhosted.org/packages/a8/07/d8acf03571db619ff117df5730dd5c0b1ad0822aa02ad1084d73e2659442/altair-4.0.1-py3-none-any.whl (708kB)\n",
            "\u001b[K     |████████████████████████████████| 716kB 36.3MB/s \n",
            "\u001b[?25hCollecting imbalanced-learn==0.6.2\n",
            "\u001b[?25l  Downloading https://files.pythonhosted.org/packages/c8/73/36a13185c2acff44d601dc6107b5347e075561a49e15ddd4e69988414c3e/imbalanced_learn-0.6.2-py3-none-any.whl (163kB)\n",
            "\u001b[K     |████████████████████████████████| 163kB 55.8MB/s \n",
            "\u001b[?25hRequirement already satisfied: imblearn==0.0 in /usr/local/lib/python3.6/dist-packages (from -r /content/drive/My Drive/crowintelligence/projektek/manning/sentiment_analysis_project/Colab/requirements.txt (line 3)) (0.0)\n",
            "Collecting Keyness==0.25\n",
            "  Downloading https://files.pythonhosted.org/packages/30/1c/2324f377631362dec550e4fcbb107af5628c34674711eff33660fb8e32fa/Keyness-0.25.tar.gz\n",
            "Collecting nltk==3.4.5\n",
            "\u001b[?25l  Downloading https://files.pythonhosted.org/packages/f6/1d/d925cfb4f324ede997f6d47bea4d9babba51b49e87a767c170b77005889d/nltk-3.4.5.zip (1.5MB)\n",
            "\u001b[K     |████████████████████████████████| 1.5MB 46.9MB/s \n",
            "\u001b[?25hRequirement already satisfied: numpy in /usr/local/lib/python3.6/dist-packages (from -r /content/drive/My Drive/crowintelligence/projektek/manning/sentiment_analysis_project/Colab/requirements.txt (line 6)) (1.18.3)\n",
            "Requirement already satisfied: pandas in /usr/local/lib/python3.6/dist-packages (from -r /content/drive/My Drive/crowintelligence/projektek/manning/sentiment_analysis_project/Colab/requirements.txt (line 7)) (1.0.3)\n",
            "Requirement already satisfied: scikit-learn in /usr/local/lib/python3.6/dist-packages (from -r /content/drive/My Drive/crowintelligence/projektek/manning/sentiment_analysis_project/Colab/requirements.txt (line 8)) (0.22.2.post1)\n",
            "Requirement already satisfied: scipy in /usr/local/lib/python3.6/dist-packages (from -r /content/drive/My Drive/crowintelligence/projektek/manning/sentiment_analysis_project/Colab/requirements.txt (line 9)) (1.4.1)\n",
            "Collecting simpletransformers==0.22.1\n",
            "\u001b[?25l  Downloading https://files.pythonhosted.org/packages/7b/ba/2864d9f710147d7f33523b8b9e00500e4c0928c3fd150104c1b51f9a32a0/simpletransformers-0.22.1-py3-none-any.whl (144kB)\n",
            "\u001b[K     |████████████████████████████████| 153kB 54.7MB/s \n",
            "\u001b[?25hRequirement already satisfied: torch==1.4.0 in /usr/local/lib/python3.6/dist-packages (from -r /content/drive/My Drive/crowintelligence/projektek/manning/sentiment_analysis_project/Colab/requirements.txt (line 11)) (1.4.0)\n",
            "Requirement already satisfied: torchvision==0.5.0 in /usr/local/lib/python3.6/dist-packages (from -r /content/drive/My Drive/crowintelligence/projektek/manning/sentiment_analysis_project/Colab/requirements.txt (line 12)) (0.5.0)\n",
            "Collecting transformers==2.6.0\n",
            "\u001b[?25l  Downloading https://files.pythonhosted.org/packages/4c/a0/32e3a4501ef480f7ea01aac329a716132f32f7911ef1c2fac228acc57ca7/transformers-2.6.0-py3-none-any.whl (540kB)\n",
            "\u001b[K     |████████████████████████████████| 542kB 50.7MB/s \n",
            "\u001b[?25hRequirement already satisfied: entrypoints in /usr/local/lib/python3.6/dist-packages (from altair==4.0.1->-r /content/drive/My Drive/crowintelligence/projektek/manning/sentiment_analysis_project/Colab/requirements.txt (line 1)) (0.3)\n",
            "Requirement already satisfied: jinja2 in /usr/local/lib/python3.6/dist-packages (from altair==4.0.1->-r /content/drive/My Drive/crowintelligence/projektek/manning/sentiment_analysis_project/Colab/requirements.txt (line 1)) (2.11.2)\n",
            "Requirement already satisfied: jsonschema in /usr/local/lib/python3.6/dist-packages (from altair==4.0.1->-r /content/drive/My Drive/crowintelligence/projektek/manning/sentiment_analysis_project/Colab/requirements.txt (line 1)) (2.6.0)\n",
            "Requirement already satisfied: toolz in /usr/local/lib/python3.6/dist-packages (from altair==4.0.1->-r /content/drive/My Drive/crowintelligence/projektek/manning/sentiment_analysis_project/Colab/requirements.txt (line 1)) (0.10.0)\n",
            "Requirement already satisfied: joblib>=0.11 in /usr/local/lib/python3.6/dist-packages (from imbalanced-learn==0.6.2->-r /content/drive/My Drive/crowintelligence/projektek/manning/sentiment_analysis_project/Colab/requirements.txt (line 2)) (0.14.1)\n",
            "Requirement already satisfied: six in /usr/local/lib/python3.6/dist-packages (from nltk==3.4.5->-r /content/drive/My Drive/crowintelligence/projektek/manning/sentiment_analysis_project/Colab/requirements.txt (line 5)) (1.12.0)\n",
            "Requirement already satisfied: pytz>=2017.2 in /usr/local/lib/python3.6/dist-packages (from pandas->-r /content/drive/My Drive/crowintelligence/projektek/manning/sentiment_analysis_project/Colab/requirements.txt (line 7)) (2018.9)\n",
            "Requirement already satisfied: python-dateutil>=2.6.1 in /usr/local/lib/python3.6/dist-packages (from pandas->-r /content/drive/My Drive/crowintelligence/projektek/manning/sentiment_analysis_project/Colab/requirements.txt (line 7)) (2.8.1)\n",
            "Collecting tensorboardx\n",
            "\u001b[?25l  Downloading https://files.pythonhosted.org/packages/35/f1/5843425495765c8c2dd0784a851a93ef204d314fc87bcc2bbb9f662a3ad1/tensorboardX-2.0-py2.py3-none-any.whl (195kB)\n",
            "\u001b[K     |████████████████████████████████| 204kB 61.9MB/s \n",
            "\u001b[?25hRequirement already satisfied: regex in /usr/local/lib/python3.6/dist-packages (from simpletransformers==0.22.1->-r /content/drive/My Drive/crowintelligence/projektek/manning/sentiment_analysis_project/Colab/requirements.txt (line 10)) (2019.12.20)\n",
            "Requirement already satisfied: requests in /usr/local/lib/python3.6/dist-packages (from simpletransformers==0.22.1->-r /content/drive/My Drive/crowintelligence/projektek/manning/sentiment_analysis_project/Colab/requirements.txt (line 10)) (2.21.0)\n",
            "Requirement already satisfied: tqdm in /usr/local/lib/python3.6/dist-packages (from simpletransformers==0.22.1->-r /content/drive/My Drive/crowintelligence/projektek/manning/sentiment_analysis_project/Colab/requirements.txt (line 10)) (4.38.0)\n",
            "Collecting seqeval\n",
            "  Downloading https://files.pythonhosted.org/packages/34/91/068aca8d60ce56dd9ba4506850e876aba5e66a6f2f29aa223224b50df0de/seqeval-0.0.12.tar.gz\n",
            "Requirement already satisfied: pillow>=4.1.1 in /usr/local/lib/python3.6/dist-packages (from torchvision==0.5.0->-r /content/drive/My Drive/crowintelligence/projektek/manning/sentiment_analysis_project/Colab/requirements.txt (line 12)) (7.0.0)\n",
            "Collecting sentencepiece\n",
            "\u001b[?25l  Downloading https://files.pythonhosted.org/packages/98/2c/8df20f3ac6c22ac224fff307ebc102818206c53fc454ecd37d8ac2060df5/sentencepiece-0.1.86-cp36-cp36m-manylinux1_x86_64.whl (1.0MB)\n",
            "\u001b[K     |████████████████████████████████| 1.0MB 24.5MB/s \n",
            "\u001b[?25hCollecting tokenizers==0.5.2\n",
            "\u001b[?25l  Downloading https://files.pythonhosted.org/packages/d1/3f/73c881ea4723e43c1e9acf317cf407fab3a278daab3a69c98dcac511c04f/tokenizers-0.5.2-cp36-cp36m-manylinux1_x86_64.whl (3.7MB)\n",
            "\u001b[K     |████████████████████████████████| 3.7MB 52.8MB/s \n",
            "\u001b[?25hCollecting sacremoses\n",
            "\u001b[?25l  Downloading https://files.pythonhosted.org/packages/99/50/93509f906a40bffd7d175f97fd75ea328ad9bd91f48f59c4bd084c94a25e/sacremoses-0.0.41.tar.gz (883kB)\n",
            "\u001b[K     |████████████████████████████████| 890kB 54.6MB/s \n",
            "\u001b[?25hRequirement already satisfied: filelock in /usr/local/lib/python3.6/dist-packages (from transformers==2.6.0->-r /content/drive/My Drive/crowintelligence/projektek/manning/sentiment_analysis_project/Colab/requirements.txt (line 13)) (3.0.12)\n",
            "Requirement already satisfied: boto3 in /usr/local/lib/python3.6/dist-packages (from transformers==2.6.0->-r /content/drive/My Drive/crowintelligence/projektek/manning/sentiment_analysis_project/Colab/requirements.txt (line 13)) (1.12.43)\n",
            "Requirement already satisfied: MarkupSafe>=0.23 in /usr/local/lib/python3.6/dist-packages (from jinja2->altair==4.0.1->-r /content/drive/My Drive/crowintelligence/projektek/manning/sentiment_analysis_project/Colab/requirements.txt (line 1)) (1.1.1)\n",
            "Requirement already satisfied: protobuf>=3.8.0 in /usr/local/lib/python3.6/dist-packages (from tensorboardx->simpletransformers==0.22.1->-r /content/drive/My Drive/crowintelligence/projektek/manning/sentiment_analysis_project/Colab/requirements.txt (line 10)) (3.10.0)\n",
            "Requirement already satisfied: chardet<3.1.0,>=3.0.2 in /usr/local/lib/python3.6/dist-packages (from requests->simpletransformers==0.22.1->-r /content/drive/My Drive/crowintelligence/projektek/manning/sentiment_analysis_project/Colab/requirements.txt (line 10)) (3.0.4)\n",
            "Requirement already satisfied: idna<2.9,>=2.5 in /usr/local/lib/python3.6/dist-packages (from requests->simpletransformers==0.22.1->-r /content/drive/My Drive/crowintelligence/projektek/manning/sentiment_analysis_project/Colab/requirements.txt (line 10)) (2.8)\n",
            "Requirement already satisfied: certifi>=2017.4.17 in /usr/local/lib/python3.6/dist-packages (from requests->simpletransformers==0.22.1->-r /content/drive/My Drive/crowintelligence/projektek/manning/sentiment_analysis_project/Colab/requirements.txt (line 10)) (2020.4.5.1)\n",
            "Requirement already satisfied: urllib3<1.25,>=1.21.1 in /usr/local/lib/python3.6/dist-packages (from requests->simpletransformers==0.22.1->-r /content/drive/My Drive/crowintelligence/projektek/manning/sentiment_analysis_project/Colab/requirements.txt (line 10)) (1.24.3)\n",
            "Requirement already satisfied: Keras>=2.2.4 in /usr/local/lib/python3.6/dist-packages (from seqeval->simpletransformers==0.22.1->-r /content/drive/My Drive/crowintelligence/projektek/manning/sentiment_analysis_project/Colab/requirements.txt (line 10)) (2.3.1)\n",
            "Requirement already satisfied: click in /usr/local/lib/python3.6/dist-packages (from sacremoses->transformers==2.6.0->-r /content/drive/My Drive/crowintelligence/projektek/manning/sentiment_analysis_project/Colab/requirements.txt (line 13)) (7.1.1)\n",
            "Requirement already satisfied: s3transfer<0.4.0,>=0.3.0 in /usr/local/lib/python3.6/dist-packages (from boto3->transformers==2.6.0->-r /content/drive/My Drive/crowintelligence/projektek/manning/sentiment_analysis_project/Colab/requirements.txt (line 13)) (0.3.3)\n",
            "Requirement already satisfied: botocore<1.16.0,>=1.15.43 in /usr/local/lib/python3.6/dist-packages (from boto3->transformers==2.6.0->-r /content/drive/My Drive/crowintelligence/projektek/manning/sentiment_analysis_project/Colab/requirements.txt (line 13)) (1.15.43)\n",
            "Requirement already satisfied: jmespath<1.0.0,>=0.7.1 in /usr/local/lib/python3.6/dist-packages (from boto3->transformers==2.6.0->-r /content/drive/My Drive/crowintelligence/projektek/manning/sentiment_analysis_project/Colab/requirements.txt (line 13)) (0.9.5)\n",
            "Requirement already satisfied: setuptools in /usr/local/lib/python3.6/dist-packages (from protobuf>=3.8.0->tensorboardx->simpletransformers==0.22.1->-r /content/drive/My Drive/crowintelligence/projektek/manning/sentiment_analysis_project/Colab/requirements.txt (line 10)) (46.1.3)\n",
            "Requirement already satisfied: h5py in /usr/local/lib/python3.6/dist-packages (from Keras>=2.2.4->seqeval->simpletransformers==0.22.1->-r /content/drive/My Drive/crowintelligence/projektek/manning/sentiment_analysis_project/Colab/requirements.txt (line 10)) (2.10.0)\n",
            "Requirement already satisfied: keras-preprocessing>=1.0.5 in /usr/local/lib/python3.6/dist-packages (from Keras>=2.2.4->seqeval->simpletransformers==0.22.1->-r /content/drive/My Drive/crowintelligence/projektek/manning/sentiment_analysis_project/Colab/requirements.txt (line 10)) (1.1.0)\n",
            "Requirement already satisfied: pyyaml in /usr/local/lib/python3.6/dist-packages (from Keras>=2.2.4->seqeval->simpletransformers==0.22.1->-r /content/drive/My Drive/crowintelligence/projektek/manning/sentiment_analysis_project/Colab/requirements.txt (line 10)) (3.13)\n",
            "Requirement already satisfied: keras-applications>=1.0.6 in /usr/local/lib/python3.6/dist-packages (from Keras>=2.2.4->seqeval->simpletransformers==0.22.1->-r /content/drive/My Drive/crowintelligence/projektek/manning/sentiment_analysis_project/Colab/requirements.txt (line 10)) (1.0.8)\n",
            "Requirement already satisfied: docutils<0.16,>=0.10 in /usr/local/lib/python3.6/dist-packages (from botocore<1.16.0,>=1.15.43->boto3->transformers==2.6.0->-r /content/drive/My Drive/crowintelligence/projektek/manning/sentiment_analysis_project/Colab/requirements.txt (line 13)) (0.15.2)\n",
            "Building wheels for collected packages: Keyness, nltk, seqeval, sacremoses\n",
            "  Building wheel for Keyness (setup.py) ... \u001b[?25l\u001b[?25hdone\n",
            "  Created wheel for Keyness: filename=Keyness-0.25-cp36-none-any.whl size=2574 sha256=39c1b770b1fa0e26d539dc79057f1501821e6bf3c095abdf638ca20bf920d2a4\n",
            "  Stored in directory: /root/.cache/pip/wheels/f8/36/c6/26c1c5b784de54cce7e0ad2ca627607673230e2286e2e1fe04\n",
            "  Building wheel for nltk (setup.py) ... \u001b[?25l\u001b[?25hdone\n",
            "  Created wheel for nltk: filename=nltk-3.4.5-cp36-none-any.whl size=1449905 sha256=1aa3ff56f01bfd69054be3dd312da763c6070a956f3116ae65210ecbf2b8a803\n",
            "  Stored in directory: /root/.cache/pip/wheels/96/86/f6/68ab24c23f207c0077381a5e3904b2815136b879538a24b483\n",
            "  Building wheel for seqeval (setup.py) ... \u001b[?25l\u001b[?25hdone\n",
            "  Created wheel for seqeval: filename=seqeval-0.0.12-cp36-none-any.whl size=7424 sha256=319aa7ca70fc112dcbbf16ed17fdcc2a4378286c247effc3b9f91766e213dcd7\n",
            "  Stored in directory: /root/.cache/pip/wheels/4f/32/0a/df3b340a82583566975377d65e724895b3fad101a3fb729f68\n",
            "  Building wheel for sacremoses (setup.py) ... \u001b[?25l\u001b[?25hdone\n",
            "  Created wheel for sacremoses: filename=sacremoses-0.0.41-cp36-none-any.whl size=893334 sha256=71e4a0db983d0ae850152da46ea17a95545787045a430058f8f131ac81eee304\n",
            "  Stored in directory: /root/.cache/pip/wheels/22/5a/d4/b020a81249de7dc63758a34222feaa668dbe8ebfe9170cc9b1\n",
            "Successfully built Keyness nltk seqeval sacremoses\n",
            "Installing collected packages: altair, imbalanced-learn, Keyness, nltk, sentencepiece, tokenizers, sacremoses, transformers, tensorboardx, seqeval, simpletransformers\n",
            "  Found existing installation: altair 4.1.0\n",
            "    Uninstalling altair-4.1.0:\n",
            "      Successfully uninstalled altair-4.1.0\n",
            "  Found existing installation: imbalanced-learn 0.4.3\n",
            "    Uninstalling imbalanced-learn-0.4.3:\n",
            "      Successfully uninstalled imbalanced-learn-0.4.3\n",
            "  Found existing installation: nltk 3.2.5\n",
            "    Uninstalling nltk-3.2.5:\n",
            "      Successfully uninstalled nltk-3.2.5\n",
            "Successfully installed Keyness-0.25 altair-4.0.1 imbalanced-learn-0.6.2 nltk-3.4.5 sacremoses-0.0.41 sentencepiece-0.1.86 seqeval-0.0.12 simpletransformers-0.22.1 tensorboardx-2.0 tokenizers-0.5.2 transformers-2.6.0\n"
          ],
          "name": "stdout"
        },
        {
          "output_type": "display_data",
          "data": {
            "application/vnd.colab-display-data+json": {
              "pip_warning": {
                "packages": [
                  "altair"
                ]
              }
            }
          },
          "metadata": {
            "tags": []
          }
        }
      ]
    },
    {
      "cell_type": "code",
      "metadata": {
        "id": "j8V3GSvEUNTq",
        "colab_type": "code",
        "colab": {}
      },
      "source": [
        "# install apex\n",
        "%%writefile setup.sh\n",
        "\n",
        "export CUDA_HOME=/usr/local/cuda-10.1\n",
        "git clone https://github.com/NVIDIA/apex\n",
        "pip install -v --no-cache-dir --global-option=\"--cpp_ext\" --global-option=\"--cuda_ext\" ./apex\n",
        "\n"
      ],
      "execution_count": null,
      "outputs": []
    },
    {
      "cell_type": "code",
      "metadata": {
        "id": "jV5c2eiuUYRM",
        "colab_type": "code",
        "colab": {}
      },
      "source": [
        "!sh setup.sh"
      ],
      "execution_count": null,
      "outputs": []
    },
    {
      "cell_type": "markdown",
      "metadata": {
        "id": "J9uGdg3GXghy",
        "colab_type": "text"
      },
      "source": [
        "# Loading our model and making predictions\n",
        "\n",
        "## Load your model\n"
      ]
    },
    {
      "cell_type": "code",
      "metadata": {
        "id": "snngrVUeZXq1",
        "colab_type": "code",
        "colab": {}
      },
      "source": [
        "from simpletransformers.classification import ClassificationModel\n",
        "\n",
        "\n",
        "model2 = ClassificationModel(\n",
        "    model_type=\"distilbert\",\n",
        "    model_name= \"/content/drive/My Drive/crowintelligence/projektek/manning/sentiment_analysis_project/Colab/outputs2/best_model/\",\n",
        "    use_cuda=True,\n",
        "    num_labels=3,\n",
        "    args={\n",
        "        \"output_dir\": \"/content/drive/My Drive/crowintelligence/projektek/manning/sentiment_analysis_project/Colab/outputs2/best_model/\",\n",
        "        \"reprocess_input_data\": True,\n",
        "        \"sliding_window\": True,\n",
        "        \"max_seq_length\": 512,\n",
        "    },\n",
        ")"
      ],
      "execution_count": null,
      "outputs": []
    },
    {
      "cell_type": "markdown",
      "metadata": {
        "id": "2CCHzzRvh07W",
        "colab_type": "text"
      },
      "source": [
        "Read in the reviews and classify them. WARNING! Classification takes some time, you can have a coffee or two before continouning this section."
      ]
    },
    {
      "cell_type": "code",
      "metadata": {
        "id": "2NAuX1_iaAKk",
        "colab_type": "code",
        "colab": {}
      },
      "source": [
        "# import random\n",
        "\n",
        "with open(\"/content/drive/My Drive/crowintelligence/projektek/manning/sentiment_analysis_project/Colab/data/raw/reviews_without_ratings.txt\", \"r\") as f:\n",
        "    reviews = f.read().split(\"\\n\")\n",
        "\n",
        "# reviews = random.sample(reviews, 100)"
      ],
      "execution_count": null,
      "outputs": []
    },
    {
      "cell_type": "code",
      "metadata": {
        "id": "0M-Qqcoch6tF",
        "colab_type": "code",
        "colab": {}
      },
      "source": [
        "predictions = model2.predict(reviews)\n",
        "\n",
        "predicted_class, predicted_probas = predictions[0], predictions[1]"
      ],
      "execution_count": null,
      "outputs": []
    },
    {
      "cell_type": "code",
      "metadata": {
        "id": "CtdpsQcQCwdT",
        "colab_type": "code",
        "colab": {}
      },
      "source": [
        "# save the predictions, otherwise you have to run every sinppets above whenever you want to work with them\n",
        "import pickle\n",
        "with open(\"/content/drive/My Drive/crowintelligence/projektek/manning/sentiment_analysis_project/Colab/predicted_class.pkl\", \"wb\") as outfile:\n",
        "  pickle.dump(predicted_class, outfile)\n",
        "\n",
        "with open(\"/content/drive/My Drive/crowintelligence/projektek/manning/sentiment_analysis_project/Colab/predicted_probs.pkl\", \"wb\") as outfile:\n",
        "  pickle.dump(predicted_probas, outfile)\n"
      ],
      "execution_count": null,
      "outputs": []
    },
    {
      "cell_type": "markdown",
      "metadata": {
        "id": "dMmkcTgJjbEI",
        "colab_type": "text"
      },
      "source": [
        "# Extracting keywords/key phrases"
      ]
    },
    {
      "cell_type": "code",
      "metadata": {
        "id": "_w__E6oukDl8",
        "colab_type": "code",
        "colab": {
          "base_uri": "https://localhost:8080/",
          "height": 102
        },
        "outputId": "5b5a60b6-82fe-4eab-e3a9-99206306e31c"
      },
      "source": [
        "import nltk\n",
        "nltk.download('stopwords')\n",
        "nltk.download('punkt')"
      ],
      "execution_count": null,
      "outputs": [
        {
          "output_type": "stream",
          "text": [
            "[nltk_data] Downloading package stopwords to /root/nltk_data...\n",
            "[nltk_data]   Unzipping corpora/stopwords.zip.\n",
            "[nltk_data] Downloading package punkt to /root/nltk_data...\n",
            "[nltk_data]   Unzipping tokenizers/punkt.zip.\n"
          ],
          "name": "stderr"
        },
        {
          "output_type": "execute_result",
          "data": {
            "text/plain": [
              "True"
            ]
          },
          "metadata": {
            "tags": []
          },
          "execution_count": 9
        }
      ]
    },
    {
      "cell_type": "code",
      "metadata": {
        "id": "sm0N97VeZLU9",
        "colab_type": "code",
        "colab": {}
      },
      "source": [
        "# only if needed\n",
        "import pickle\n",
        "predicted_class = pickle.load(open(\"/content/drive/My Drive/crowintelligence/projektek/manning/sentiment_analysis_project/Colab/predicted_class.pkl\", \"rb\"))\n"
      ],
      "execution_count": null,
      "outputs": []
    },
    {
      "cell_type": "code",
      "metadata": {
        "id": "g9i14_XzjlNU",
        "colab_type": "code",
        "colab": {}
      },
      "source": [
        "from nltk.corpus import stopwords\n",
        "from nltk.tokenize import sent_tokenize, word_tokenize\n",
        "\n",
        "blacklist = set(stopwords.words())\n",
        "\n",
        "\n",
        "def tokenize_review(review):\n",
        "    wds = []\n",
        "    for sent in sent_tokenize(review):\n",
        "        for wd in word_tokenize(sent):\n",
        "            if wd.lower() not in blacklist and wd.isalpha():\n",
        "                wds.append(wd.lower())\n",
        "    return wds\n",
        "\n",
        "\n",
        "reviews = [tokenize_review(review) for review in reviews]\n",
        "\n",
        "bigrams = [[e[0] + \"_\" + e[1] for e in list(nltk.bigrams(e))] for e in reviews]\n",
        "\n",
        "positive_reviews = [bigrams[i] for i in range(len(reviews)) if predicted_class[i] == 2]\n",
        "\n",
        "negative_reviews = [bigrams[i] for i in range(len(reviews)) if predicted_class[i] == 0]\n",
        "\n",
        "neutral_reviews = [bigrams[i] for i in range(len(reviews)) if predicted_class[i] == 1]\n",
        "\n",
        "\n"
      ],
      "execution_count": null,
      "outputs": []
    },
    {
      "cell_type": "code",
      "metadata": {
        "id": "mfy0EtxelhjX",
        "colab_type": "code",
        "colab": {
          "base_uri": "https://localhost:8080/",
          "height": 396
        },
        "outputId": "5dc09d48-daff-48ee-e919-4fd1a64d469e"
      },
      "source": [
        "import altair as alt\n",
        "import pandas as pd\n",
        "\n",
        "df = pd.DataFrame({\"sentiments\": [\"negative\", \"neutral\", \"positive\"],\n",
        "                   \"counts\": [len(negative_reviews), len(neutral_reviews),\n",
        "                              len(positive_reviews)]})\n",
        "\n",
        "alt.Chart(df).mark_bar().encode(x=\"sentiments\", y=\"counts\")\n"
      ],
      "execution_count": null,
      "outputs": [
        {
          "output_type": "execute_result",
          "data": {
            "text/plain": [
              "alt.Chart(...)"
            ],
            "text/html": [
              "\n",
              "<div id=\"altair-viz-2bb844fda7bb4dc5ae448bc56208d0f8\"></div>\n",
              "<script type=\"text/javascript\">\n",
              "  (function(spec, embedOpt){\n",
              "    let outputDiv = document.currentScript.previousElementSibling;\n",
              "    if (outputDiv.id !== \"altair-viz-2bb844fda7bb4dc5ae448bc56208d0f8\") {\n",
              "      outputDiv = document.getElementById(\"altair-viz-2bb844fda7bb4dc5ae448bc56208d0f8\");\n",
              "    }\n",
              "    const paths = {\n",
              "      \"vega\": \"https://cdn.jsdelivr.net/npm//vega@5?noext\",\n",
              "      \"vega-lib\": \"https://cdn.jsdelivr.net/npm//vega-lib?noext\",\n",
              "      \"vega-lite\": \"https://cdn.jsdelivr.net/npm//vega-lite@4.8.1?noext\",\n",
              "      \"vega-embed\": \"https://cdn.jsdelivr.net/npm//vega-embed@6?noext\",\n",
              "    };\n",
              "\n",
              "    function loadScript(lib) {\n",
              "      return new Promise(function(resolve, reject) {\n",
              "        var s = document.createElement('script');\n",
              "        s.src = paths[lib];\n",
              "        s.async = true;\n",
              "        s.onload = () => resolve(paths[lib]);\n",
              "        s.onerror = () => reject(`Error loading script: ${paths[lib]}`);\n",
              "        document.getElementsByTagName(\"head\")[0].appendChild(s);\n",
              "      });\n",
              "    }\n",
              "\n",
              "    function showError(err) {\n",
              "      outputDiv.innerHTML = `<div class=\"error\" style=\"color:red;\">${err}</div>`;\n",
              "      throw err;\n",
              "    }\n",
              "\n",
              "    function displayChart(vegaEmbed) {\n",
              "      vegaEmbed(outputDiv, spec, embedOpt)\n",
              "        .catch(err => showError(`Javascript Error: ${err.message}<br>This usually means there's a typo in your chart specification. See the javascript console for the full traceback.`));\n",
              "    }\n",
              "\n",
              "    if(typeof define === \"function\" && define.amd) {\n",
              "      requirejs.config({paths});\n",
              "      require([\"vega-embed\"], displayChart, err => showError(`Error loading script: ${err.message}`));\n",
              "    } else if (typeof vegaEmbed === \"function\") {\n",
              "      displayChart(vegaEmbed);\n",
              "    } else {\n",
              "      loadScript(\"vega\")\n",
              "        .then(() => loadScript(\"vega-lite\"))\n",
              "        .then(() => loadScript(\"vega-embed\"))\n",
              "        .catch(showError)\n",
              "        .then(() => displayChart(vegaEmbed));\n",
              "    }\n",
              "  })({\"config\": {\"view\": {\"continuousWidth\": 400, \"continuousHeight\": 300}}, \"data\": {\"name\": \"data-27d99803f4fed66455dec2f44cfbc27b\"}, \"mark\": \"bar\", \"encoding\": {\"x\": {\"type\": \"nominal\", \"field\": \"sentiments\"}, \"y\": {\"type\": \"quantitative\", \"field\": \"counts\"}}, \"$schema\": \"https://vega.github.io/schema/vega-lite/v4.8.1.json\", \"datasets\": {\"data-27d99803f4fed66455dec2f44cfbc27b\": [{\"sentiments\": \"negative\", \"counts\": 15384}, {\"sentiments\": \"neutral\", \"counts\": 29303}, {\"sentiments\": \"positive\", \"counts\": 55313}]}}, {\"mode\": \"vega-lite\"});\n",
              "</script>"
            ]
          },
          "metadata": {
            "tags": []
          },
          "execution_count": 12
        }
      ]
    },
    {
      "cell_type": "code",
      "metadata": {
        "id": "vYPeBW4dZpZL",
        "colab_type": "code",
        "colab": {}
      },
      "source": [
        "# save the review bigrams so you don't have to re-run the snippets above\n",
        "import pickle\n",
        "\n",
        "with open(\"/content/drive/My Drive/crowintelligence/projektek/manning/sentiment_analysis_project/Colab/positive_reviews.pkl\", \"wb\") as outfile:\n",
        "  pickle.dump(positive_reviews, outfile)\n",
        "\n",
        "with open(\"/content/drive/My Drive/crowintelligence/projektek/manning/sentiment_analysis_project/Colab/negative_reviews.pkl\", \"wb\") as outfile:\n",
        "  pickle.dump(negative_reviews, outfile)\n",
        "\n",
        "with open(\"/content/drive/My Drive/crowintelligence/projektek/manning/sentiment_analysis_project/Colab/neutral_reviews.pkl\", \"wb\") as outfile:\n",
        "  pickle.dump(neutral_reviews, outfile)"
      ],
      "execution_count": null,
      "outputs": []
    },
    {
      "cell_type": "markdown",
      "metadata": {
        "id": "NpgkEdTLDVEg",
        "colab_type": "text"
      },
      "source": [
        "Now, we can extract the key bigrams."
      ]
    },
    {
      "cell_type": "code",
      "metadata": {
        "id": "P0je_gqpDUl7",
        "colab_type": "code",
        "colab": {}
      },
      "source": [
        "from keyness import log_likelihood\n",
        "\n",
        "positive_keys = log_likelihood(bigrams, positive_reviews)[:150]\n",
        "negative_keys = log_likelihood(bigrams, negative_reviews)[:150]\n",
        "neutral_keys = log_likelihood(bigrams, neutral_reviews)[:150]\n",
        "\n",
        "# serialize keywords, so you don't have t\n",
        "with open(\"/content/drive/My Drive/crowintelligence/projektek/manning/sentiment_analysis_project/Colab/positive_keys.pkl\", \"wb\") as outfile:\n",
        "  pickle.dump(positive_keys, outfile)\n",
        "\n",
        "with open(\"/content/drive/My Drive/crowintelligence/projektek/manning/sentiment_analysis_project/Colab/negative_keys.pkl\", \"wb\") as outfile:\n",
        "  pickle.dump(negative_keys, outfile)\n",
        "\n",
        "with open(\"/content/drive/My Drive/crowintelligence/projektek/manning/sentiment_analysis_project/Colab/neutral_keys.pkl\", \"wb\") as outfile:\n",
        "  pickle.dump(neutral_keys, outfile)\n",
        "\n"
      ],
      "execution_count": null,
      "outputs": []
    },
    {
      "cell_type": "markdown",
      "metadata": {
        "id": "wdV1RcVmD020",
        "colab_type": "text"
      },
      "source": [
        "The three list contain tuples of bigram, log likelihood, overall frequency and frequency in the subcorpus."
      ]
    },
    {
      "cell_type": "markdown",
      "metadata": {
        "id": "29Dfj5hlk1e5",
        "colab_type": "text"
      },
      "source": [
        "# Interpret your results\n",
        "## Keyness vs frequency"
      ]
    },
    {
      "cell_type": "code",
      "metadata": {
        "id": "e20ESdSnprmk",
        "colab_type": "code",
        "colab": {}
      },
      "source": [
        "# only needed if we have to reconnect\n",
        "import pickle\n",
        "positive_keys = pickle.load(open(\"/content/drive/My Drive/crowintelligence/projektek/manning/sentiment_analysis_project/Colab/positive_keys.pkl\", \"rb\"))\n",
        "negative_keys = pickle.load(open(\"/content/drive/My Drive/crowintelligence/projektek/manning/sentiment_analysis_project/Colab/negative_keys.pkl\", \"rb\"))\n",
        "neutral_keys = pickle.load(open(\"/content/drive/My Drive/crowintelligence/projektek/manning/sentiment_analysis_project/Colab/neutral_keys.pkl\", \"rb\"))\n"
      ],
      "execution_count": null,
      "outputs": []
    },
    {
      "cell_type": "code",
      "metadata": {
        "id": "fx5SBr5NLypH",
        "colab_type": "code",
        "colab": {}
      },
      "source": [
        "with open(\"/content/drive/My Drive/crowintelligence/projektek/manning/sentiment_analysis_project/Colab/data/processed/positive_keys.tsv\", \"w\") as outfile:\n",
        "    h = \"bigram\\tloglikelihood\\tcorpus_freq\\treference_freq\\n\"\n",
        "    outfile.write(h)\n",
        "    for e in positive_keys:\n",
        "        wd, ll, cf, rf = e[0], str(e[1]), str(e[2]), str(e[3])\n",
        "        o = \"\\t\".join([wd, ll, cf, rf]) + \"\\n\"\n",
        "        outfile.write(o)\n",
        "\n",
        "with open(\"/content/drive/My Drive/crowintelligence/projektek/manning/sentiment_analysis_project/Colab/data/processed/negative_keys.tsv\", \"w\") as outfile:\n",
        "    h = \"bigram\\tloglikelihood\\tcorpus_freq\\treference_freq\\n\"\n",
        "    outfile.write(h)\n",
        "    for e in negative_keys:\n",
        "        wd, ll, cf, rf = e[0], str(e[1]), str(e[2]), str(e[3])\n",
        "        o = \"\\t\".join([wd, ll, cf, rf]) + \"\\n\"\n",
        "        outfile.write(o)\n",
        "\n",
        "with open(\"/content/drive/My Drive/crowintelligence/projektek/manning/sentiment_analysis_project/Colab/data/processed/neutral_keys.tsv\", \"w\") as outfile:\n",
        "    h = \"bigram\\tloglikelihood\\tcorpus_freq\\treference_freq\\n\"\n",
        "    outfile.write(h)\n",
        "    for e in neutral_keys:\n",
        "        wd, ll, cf, rf = e[0], str(e[1]), str(e[2]), str(e[3])\n",
        "        o = \"\\t\".join([wd, ll, cf, rf]) + \"\\n\"\n",
        "        outfile.write(o)\n"
      ],
      "execution_count": null,
      "outputs": []
    },
    {
      "cell_type": "code",
      "metadata": {
        "id": "lkkYPPGr66iM",
        "colab_type": "code",
        "colab": {}
      },
      "source": [
        "import pandas as pd\n",
        "\n",
        "positive_df = pd.DataFrame({\"bigrams\": [e[0] for e in positive_keys],\n",
        "                     \"keyness\": [e[1] for e in positive_keys],\n",
        "                     \"corpus_freq\": [e[2] for e in positive_keys],\n",
        "                     \"reference_freq\": [e[3] for e in positive_keys]})\n"
      ],
      "execution_count": null,
      "outputs": []
    },
    {
      "cell_type": "code",
      "metadata": {
        "id": "TcSvgysTk7A0",
        "colab_type": "code",
        "colab": {
          "base_uri": "https://localhost:8080/",
          "height": 368
        },
        "outputId": "be21dc56-16d9-48fd-d5c8-b180dda1fdf4"
      },
      "source": [
        "import altair as alt\n",
        "\n",
        "alt.Chart(positive_df).mark_point().encode(\n",
        "    x='keyness:Q',\n",
        "    y='reference_freq:Q',\n",
        "    color='reference_freq:Q',\n",
        "    tooltip=[\"bigrams:N\", \"reference_freq:Q\"],\n",
        ").interactive()"
      ],
      "execution_count": null,
      "outputs": [
        {
          "output_type": "execute_result",
          "data": {
            "text/plain": [
              "alt.Chart(...)"
            ],
            "text/html": [
              "\n",
              "<div id=\"altair-viz-ab9e664fce634309a34e82c8c06947b5\"></div>\n",
              "<script type=\"text/javascript\">\n",
              "  (function(spec, embedOpt){\n",
              "    let outputDiv = document.currentScript.previousElementSibling;\n",
              "    if (outputDiv.id !== \"altair-viz-ab9e664fce634309a34e82c8c06947b5\") {\n",
              "      outputDiv = document.getElementById(\"altair-viz-ab9e664fce634309a34e82c8c06947b5\");\n",
              "    }\n",
              "    const paths = {\n",
              "      \"vega\": \"https://cdn.jsdelivr.net/npm//vega@5?noext\",\n",
              "      \"vega-lib\": \"https://cdn.jsdelivr.net/npm//vega-lib?noext\",\n",
              "      \"vega-lite\": \"https://cdn.jsdelivr.net/npm//vega-lite@4.8.1?noext\",\n",
              "      \"vega-embed\": \"https://cdn.jsdelivr.net/npm//vega-embed@6?noext\",\n",
              "    };\n",
              "\n",
              "    function loadScript(lib) {\n",
              "      return new Promise(function(resolve, reject) {\n",
              "        var s = document.createElement('script');\n",
              "        s.src = paths[lib];\n",
              "        s.async = true;\n",
              "        s.onload = () => resolve(paths[lib]);\n",
              "        s.onerror = () => reject(`Error loading script: ${paths[lib]}`);\n",
              "        document.getElementsByTagName(\"head\")[0].appendChild(s);\n",
              "      });\n",
              "    }\n",
              "\n",
              "    function showError(err) {\n",
              "      outputDiv.innerHTML = `<div class=\"error\" style=\"color:red;\">${err}</div>`;\n",
              "      throw err;\n",
              "    }\n",
              "\n",
              "    function displayChart(vegaEmbed) {\n",
              "      vegaEmbed(outputDiv, spec, embedOpt)\n",
              "        .catch(err => showError(`Javascript Error: ${err.message}<br>This usually means there's a typo in your chart specification. See the javascript console for the full traceback.`));\n",
              "    }\n",
              "\n",
              "    if(typeof define === \"function\" && define.amd) {\n",
              "      requirejs.config({paths});\n",
              "      require([\"vega-embed\"], displayChart, err => showError(`Error loading script: ${err.message}`));\n",
              "    } else if (typeof vegaEmbed === \"function\") {\n",
              "      displayChart(vegaEmbed);\n",
              "    } else {\n",
              "      loadScript(\"vega\")\n",
              "        .then(() => loadScript(\"vega-lite\"))\n",
              "        .then(() => loadScript(\"vega-embed\"))\n",
              "        .catch(showError)\n",
              "        .then(() => displayChart(vegaEmbed));\n",
              "    }\n",
              "  })({\"config\": {\"view\": {\"continuousWidth\": 400, \"continuousHeight\": 300}}, \"data\": {\"name\": \"data-aa80df50aec78fb53a9e59b49d0cc5d1\"}, \"mark\": \"point\", \"encoding\": {\"color\": {\"type\": \"quantitative\", \"field\": \"reference_freq\"}, \"tooltip\": [{\"type\": \"nominal\", \"field\": \"bigrams\"}, {\"type\": \"quantitative\", \"field\": \"reference_freq\"}], \"x\": {\"type\": \"quantitative\", \"field\": \"keyness\"}, \"y\": {\"type\": \"quantitative\", \"field\": \"reference_freq\"}}, \"selection\": {\"selector001\": {\"type\": \"interval\", \"bind\": \"scales\", \"encodings\": [\"x\", \"y\"]}}, \"$schema\": \"https://vega.github.io/schema/vega-lite/v4.8.1.json\", \"datasets\": {\"data-aa80df50aec78fb53a9e59b49d0cc5d1\": [{\"bigrams\": \"great_game\", \"keyness\": 832.348, \"corpus_freq\": 5891, \"reference_freq\": 3805}, {\"bigrams\": \"love_game\", \"keyness\": 478.053, \"corpus_freq\": 2455, \"reference_freq\": 1733}, {\"bigrams\": \"works_great\", \"keyness\": 411.776, \"corpus_freq\": 1744, \"reference_freq\": 1305}, {\"bigrams\": \"highly_recommend\", \"keyness\": 403.341, \"corpus_freq\": 1735, \"reference_freq\": 1292}, {\"bigrams\": \"best_games\", \"keyness\": 281.497, \"corpus_freq\": 1006, \"reference_freq\": 795}, {\"bigrams\": \"great_product\", \"keyness\": 262.38, \"corpus_freq\": 785, \"reference_freq\": 659}, {\"bigrams\": \"awesome_game\", \"keyness\": 230.67, \"corpus_freq\": 942, \"reference_freq\": 713}, {\"bigrams\": \"best_game\", \"keyness\": 226.991, \"corpus_freq\": 1184, \"reference_freq\": 832}, {\"bigrams\": \"games_ever\", \"keyness\": 200.156, \"corpus_freq\": 1083, \"reference_freq\": 753}, {\"bigrams\": \"game_great\", \"keyness\": 199.884, \"corpus_freq\": 2476, \"reference_freq\": 1401}, {\"bigrams\": \"excellent_product\", \"keyness\": 182.464, \"corpus_freq\": 401, \"reference_freq\": 377}, {\"bigrams\": \"fast_shipping\", \"keyness\": 172.914, \"corpus_freq\": 347, \"reference_freq\": 338}, {\"bigrams\": \"kids_love\", \"keyness\": 167.759, \"corpus_freq\": 406, \"reference_freq\": 368}, {\"bigrams\": \"game_awesome\", \"keyness\": 162.922, \"corpus_freq\": 643, \"reference_freq\": 492}, {\"bigrams\": \"great_price\", \"keyness\": 162.383, \"corpus_freq\": 644, \"reference_freq\": 492}, {\"bigrams\": \"waste_money\", \"keyness\": 160.999, \"corpus_freq\": 491, \"reference_freq\": 25}, {\"bigrams\": \"game_amazing\", \"keyness\": 159.221, \"corpus_freq\": 581, \"reference_freq\": 456}, {\"bigrams\": \"highly_recommended\", \"keyness\": 156.141, \"corpus_freq\": 621, \"reference_freq\": 474}, {\"bigrams\": \"much_fun\", \"keyness\": 154.036, \"corpus_freq\": 1462, \"reference_freq\": 878}, {\"bigrams\": \"game_ever\", \"keyness\": 146.372, \"corpus_freq\": 1726, \"reference_freq\": 987}, {\"bigrams\": \"loves_game\", \"keyness\": 144.881, \"corpus_freq\": 374, \"reference_freq\": 331}, {\"bigrams\": \"fun_game\", \"keyness\": 144.366, \"corpus_freq\": 3283, \"reference_freq\": 1656}, {\"bigrams\": \"ever_played\", \"keyness\": 141.829, \"corpus_freq\": 1437, \"reference_freq\": 850}, {\"bigrams\": \"video_game\", \"keyness\": 141.142, \"corpus_freq\": 2531, \"reference_freq\": 1331}, {\"bigrams\": \"amazing_game\", \"keyness\": 135.663, \"corpus_freq\": 602, \"reference_freq\": 444}, {\"bigrams\": \"well_worth\", \"keyness\": 134.303, \"corpus_freq\": 913, \"reference_freq\": 596}, {\"bigrams\": \"bad_game\", \"keyness\": 123.585, \"corpus_freq\": 702, \"reference_freq\": 78}, {\"bigrams\": \"game_love\", \"keyness\": 112.162, \"corpus_freq\": 670, \"reference_freq\": 453}, {\"bigrams\": \"excellent_game\", \"keyness\": 110.669, \"corpus_freq\": 544, \"reference_freq\": 389}, {\"bigrams\": \"must_buy\", \"keyness\": 110.651, \"corpus_freq\": 572, \"reference_freq\": 403}, {\"bigrams\": \"recommend_game\", \"keyness\": 107.009, \"corpus_freq\": 1402, \"reference_freq\": 784}, {\"bigrams\": \"game_best\", \"keyness\": 105.284, \"corpus_freq\": 829, \"reference_freq\": 521}, {\"bigrams\": \"arrived_time\", \"keyness\": 102.393, \"corpus_freq\": 286, \"reference_freq\": 246}, {\"bigrams\": \"great_story\", \"keyness\": 96.465, \"corpus_freq\": 708, \"reference_freq\": 453}, {\"bigrams\": \"super_mario\", \"keyness\": 95.593, \"corpus_freq\": 1315, \"reference_freq\": 728}, {\"bigrams\": \"save_money\", \"keyness\": 91.277, \"corpus_freq\": 340, \"reference_freq\": 24}, {\"bigrams\": \"recommend_anyone\", \"keyness\": 91.063, \"corpus_freq\": 567, \"reference_freq\": 379}, {\"bigrams\": \"good_product\", \"keyness\": 90.03, \"corpus_freq\": 410, \"reference_freq\": 300}, {\"bigrams\": \"best_best\", \"keyness\": 89.558, \"corpus_freq\": 223, \"reference_freq\": 200}, {\"bigrams\": \"ever_made\", \"keyness\": 88.568, \"corpus_freq\": 625, \"reference_freq\": 404}, {\"bigrams\": \"works_perfectly\", \"keyness\": 87.987, \"corpus_freq\": 426, \"reference_freq\": 306}, {\"bigrams\": \"mario_kart\", \"keyness\": 84.542, \"corpus_freq\": 970, \"reference_freq\": 558}, {\"bigrams\": \"perfect_condition\", \"keyness\": 80.183, \"corpus_freq\": 221, \"reference_freq\": 191}, {\"bigrams\": \"even_better\", \"keyness\": 79.716, \"corpus_freq\": 828, \"reference_freq\": 487}, {\"bigrams\": \"seems_like\", \"keyness\": 78.299, \"corpus_freq\": 985, \"reference_freq\": 175}, {\"bigrams\": \"stopped_working\", \"keyness\": 78.292, \"corpus_freq\": 194, \"reference_freq\": 6}, {\"bigrams\": \"worst_game\", \"keyness\": 77.199, \"corpus_freq\": 166, \"reference_freq\": 3}, {\"bigrams\": \"worth_every\", \"keyness\": 76.488, \"corpus_freq\": 329, \"reference_freq\": 245}, {\"bigrams\": \"great_condition\", \"keyness\": 75.966, \"corpus_freq\": 235, \"reference_freq\": 195}, {\"bigrams\": \"fun_play\", \"keyness\": 75.813, \"corpus_freq\": 1806, \"reference_freq\": 904}, {\"bigrams\": \"video_games\", \"keyness\": 75.352, \"corpus_freq\": 1561, \"reference_freq\": 800}, {\"bigrams\": \"favorite_games\", \"keyness\": 74.589, \"corpus_freq\": 443, \"reference_freq\": 300}, {\"bigrams\": \"favorite_game\", \"keyness\": 74.473, \"corpus_freq\": 499, \"reference_freq\": 327}, {\"bigrams\": \"far_best\", \"keyness\": 71.601, \"corpus_freq\": 411, \"reference_freq\": 281}, {\"bigrams\": \"greatest_video\", \"keyness\": 69.62, \"corpus_freq\": 155, \"reference_freq\": 145}, {\"bigrams\": \"great_graphics\", \"keyness\": 69.14, \"corpus_freq\": 934, \"reference_freq\": 519}, {\"bigrams\": \"felt_like\", \"keyness\": 67.861, \"corpus_freq\": 855, \"reference_freq\": 152}, {\"bigrams\": \"thank_much\", \"keyness\": 67.501, \"corpus_freq\": 151, \"reference_freq\": 141}, {\"bigrams\": \"loved_game\", \"keyness\": 67.079, \"corpus_freq\": 486, \"reference_freq\": 312}, {\"bigrams\": \"fast_delivery\", \"keyness\": 66.95, \"corpus_freq\": 157, \"reference_freq\": 144}, {\"bigrams\": \"great_fun\", \"keyness\": 66.672, \"corpus_freq\": 523, \"reference_freq\": 329}, {\"bigrams\": \"game_must\", \"keyness\": 65.537, \"corpus_freq\": 509, \"reference_freq\": 321}, {\"bigrams\": \"lots_fun\", \"keyness\": 65.373, \"corpus_freq\": 411, \"reference_freq\": 274}, {\"bigrams\": \"great_buy\", \"keyness\": 65.268, \"corpus_freq\": 320, \"reference_freq\": 229}, {\"bigrams\": \"great_item\", \"keyness\": 64.915, \"corpus_freq\": 139, \"reference_freq\": 132}, {\"bigrams\": \"works_well\", \"keyness\": 64.74, \"corpus_freq\": 1097, \"reference_freq\": 583}, {\"bigrams\": \"whole_family\", \"keyness\": 63.546, \"corpus_freq\": 230, \"reference_freq\": 181}, {\"bigrams\": \"absolutely_love\", \"keyness\": 63.369, \"corpus_freq\": 314, \"reference_freq\": 224}, {\"bigrams\": \"hours_fun\", \"keyness\": 62.902, \"corpus_freq\": 331, \"reference_freq\": 232}, {\"bigrams\": \"love_love\", \"keyness\": 61.275, \"corpus_freq\": 236, \"reference_freq\": 182}, {\"bigrams\": \"universe_true\", \"keyness\": 61.206, \"corpus_freq\": 115, \"reference_freq\": 115}, {\"bigrams\": \"grandson_loves\", \"keyness\": 60.615, \"corpus_freq\": 138, \"reference_freq\": 128}, {\"bigrams\": \"best_ever\", \"keyness\": 60.058, \"corpus_freq\": 313, \"reference_freq\": 220}, {\"bigrams\": \"waste_time\", \"keyness\": 59.439, \"corpus_freq\": 411, \"reference_freq\": 53}, {\"bigrams\": \"problem_game\", \"keyness\": 58.999, \"corpus_freq\": 428, \"reference_freq\": 57}, {\"bigrams\": \"good_price\", \"keyness\": 58.161, \"corpus_freq\": 391, \"reference_freq\": 256}, {\"bigrams\": \"really_fun\", \"keyness\": 56.977, \"corpus_freq\": 1124, \"reference_freq\": 581}, {\"bigrams\": \"graphics_great\", \"keyness\": 56.723, \"corpus_freq\": 835, \"reference_freq\": 456}, {\"bigrams\": \"daughter_loves\", \"keyness\": 56.442, \"corpus_freq\": 162, \"reference_freq\": 138}, {\"bigrams\": \"every_penny\", \"keyness\": 55.977, \"corpus_freq\": 248, \"reference_freq\": 183}, {\"bigrams\": \"graphics_amazing\", \"keyness\": 55.37, \"corpus_freq\": 377, \"reference_freq\": 246}, {\"bigrams\": \"great_gift\", \"keyness\": 54.794, \"corpus_freq\": 127, \"reference_freq\": 117}, {\"bigrams\": \"year_old\", \"keyness\": 54.585, \"corpus_freq\": 1303, \"reference_freq\": 652}, {\"bigrams\": \"super_fun\", \"keyness\": 54.445, \"corpus_freq\": 216, \"reference_freq\": 165}, {\"bigrams\": \"top_notch\", \"keyness\": 52.822, \"corpus_freq\": 618, \"reference_freq\": 354}, {\"bigrams\": \"great_addition\", \"keyness\": 52.388, \"corpus_freq\": 322, \"reference_freq\": 216}, {\"bigrams\": \"another_great\", \"keyness\": 51.547, \"corpus_freq\": 255, \"reference_freq\": 182}, {\"bigrams\": \"biggest_problem\", \"keyness\": 51.253, \"corpus_freq\": 194, \"reference_freq\": 14}, {\"bigrams\": \"star_wars\", \"keyness\": 51.212, \"corpus_freq\": 1515, \"reference_freq\": 733}, {\"bigrams\": \"dark_souls\", \"keyness\": 51.035, \"corpus_freq\": 546, \"reference_freq\": 319}, {\"bigrams\": \"great_games\", \"keyness\": 50.846, \"corpus_freq\": 507, \"reference_freq\": 301}, {\"bigrams\": \"great_gameplay\", \"keyness\": 50.845, \"corpus_freq\": 303, \"reference_freq\": 205}, {\"bigrams\": \"game_highly\", \"keyness\": 50.678, \"corpus_freq\": 283, \"reference_freq\": 195}, {\"bigrams\": \"good_condition\", \"keyness\": 50.596, \"corpus_freq\": 261, \"reference_freq\": 184}, {\"bigrams\": \"game_bad\", \"keyness\": 50.456, \"corpus_freq\": 472, \"reference_freq\": 73}, {\"bigrams\": \"game_sucks\", \"keyness\": 50.178, \"corpus_freq\": 161, \"reference_freq\": 9}, {\"bigrams\": \"definitely_recommend\", \"keyness\": 49.942, \"corpus_freq\": 410, \"reference_freq\": 255}, {\"bigrams\": \"many_different\", \"keyness\": 49.719, \"corpus_freq\": 458, \"reference_freq\": 277}, {\"bigrams\": \"wii_fit\", \"keyness\": 48.806, \"corpus_freq\": 426, \"reference_freq\": 261}, {\"bigrams\": \"exactly_described\", \"keyness\": 48.452, \"corpus_freq\": 115, \"reference_freq\": 105}, {\"bigrams\": \"fantastic_game\", \"keyness\": 48.296, \"corpus_freq\": 357, \"reference_freq\": 228}, {\"bigrams\": \"item_described\", \"keyness\": 48.135, \"corpus_freq\": 105, \"reference_freq\": 99}, {\"bigrams\": \"game_year\", \"keyness\": 48.032, \"corpus_freq\": 625, \"reference_freq\": 350}, {\"bigrams\": \"tech_support\", \"keyness\": 47.813, \"corpus_freq\": 80, \"reference_freq\": 0}, {\"bigrams\": \"amazing_graphics\", \"keyness\": 47.05, \"corpus_freq\": 281, \"reference_freq\": 190}, {\"bigrams\": \"terrible_game\", \"keyness\": 46.376, \"corpus_freq\": 126, \"reference_freq\": 5}, {\"bigrams\": \"really_bad\", \"keyness\": 46.175, \"corpus_freq\": 368, \"reference_freq\": 52}, {\"bigrams\": \"product_fast\", \"keyness\": 45.24, \"corpus_freq\": 85, \"reference_freq\": 85}, {\"bigrams\": \"tons_fun\", \"keyness\": 44.999, \"corpus_freq\": 207, \"reference_freq\": 151}, {\"bigrams\": \"game_unplayable\", \"keyness\": 44.824, \"corpus_freq\": 75, \"reference_freq\": 0}, {\"bigrams\": \"story_great\", \"keyness\": 44.338, \"corpus_freq\": 344, \"reference_freq\": 217}, {\"bigrams\": \"christmas_gift\", \"keyness\": 43.986, \"corpus_freq\": 153, \"reference_freq\": 122}, {\"bigrams\": \"game_excellent\", \"keyness\": 43.955, \"corpus_freq\": 280, \"reference_freq\": 186}, {\"bigrams\": \"great_love\", \"keyness\": 43.923, \"corpus_freq\": 129, \"reference_freq\": 109}, {\"bigrams\": \"decent_game\", \"keyness\": 43.785, \"corpus_freq\": 284, \"reference_freq\": 35}, {\"bigrams\": \"wanted_like\", \"keyness\": 43.572, \"corpus_freq\": 141, \"reference_freq\": 8}, {\"bigrams\": \"even_worse\", \"keyness\": 43.441, \"corpus_freq\": 204, \"reference_freq\": 19}, {\"bigrams\": \"worst_part\", \"keyness\": 43.402, \"corpus_freq\": 147, \"reference_freq\": 9}, {\"bigrams\": \"excellent_condition\", \"keyness\": 43.231, \"corpus_freq\": 121, \"reference_freq\": 104}, {\"bigrams\": \"love_playing\", \"keyness\": 43.045, \"corpus_freq\": 229, \"reference_freq\": 160}, {\"bigrams\": \"anyone_likes\", \"keyness\": 42.631, \"corpus_freq\": 196, \"reference_freq\": 143}, {\"bigrams\": \"game_play\", \"keyness\": 42.617, \"corpus_freq\": 5048, \"reference_freq\": 2088}, {\"bigrams\": \"games_love\", \"keyness\": 41.783, \"corpus_freq\": 279, \"reference_freq\": 183}, {\"bigrams\": \"stay_away\", \"keyness\": 41.681, \"corpus_freq\": 205, \"reference_freq\": 20}, {\"bigrams\": \"worth_money\", \"keyness\": 41.346, \"corpus_freq\": 737, \"reference_freq\": 388}, {\"bigrams\": \"fun_great\", \"keyness\": 41.153, \"corpus_freq\": 219, \"reference_freq\": 153}, {\"bigrams\": \"worst_games\", \"keyness\": 40.89, \"corpus_freq\": 82, \"reference_freq\": 1}, {\"bigrams\": \"happy_purchase\", \"keyness\": 40.851, \"corpus_freq\": 242, \"reference_freq\": 164}, {\"bigrams\": \"would_highly\", \"keyness\": 40.792, \"corpus_freq\": 313, \"reference_freq\": 198}, {\"bigrams\": \"games_time\", \"keyness\": 40.437, \"corpus_freq\": 398, \"reference_freq\": 237}, {\"bigrams\": \"easy_use\", \"keyness\": 40.268, \"corpus_freq\": 514, \"reference_freq\": 289}, {\"bigrams\": \"absolutely_amazing\", \"keyness\": 40.025, \"corpus_freq\": 164, \"reference_freq\": 124}, {\"bigrams\": \"definitely_worth\", \"keyness\": 39.766, \"corpus_freq\": 527, \"reference_freq\": 294}, {\"bigrams\": \"really_enjoyed\", \"keyness\": 39.731, \"corpus_freq\": 683, \"reference_freq\": 362}, {\"bigrams\": \"game_horrible\", \"keyness\": 39.718, \"corpus_freq\": 120, \"reference_freq\": 6}, {\"bigrams\": \"brand_new\", \"keyness\": 39.709, \"corpus_freq\": 739, \"reference_freq\": 386}, {\"bigrams\": \"games_great\", \"keyness\": 39.58, \"corpus_freq\": 370, \"reference_freq\": 223}, {\"bigrams\": \"two_stars\", \"keyness\": 39.291, \"corpus_freq\": 105, \"reference_freq\": 4}, {\"bigrams\": \"game_boring\", \"keyness\": 39.262, \"corpus_freq\": 156, \"reference_freq\": 12}, {\"bigrams\": \"would_better\", \"keyness\": 39.217, \"corpus_freq\": 285, \"reference_freq\": 38}, {\"bigrams\": \"game_terrible\", \"keyness\": 38.655, \"corpus_freq\": 137, \"reference_freq\": 9}, {\"bigrams\": \"nintendo_ds\", \"keyness\": 38.185, \"corpus_freq\": 528, \"reference_freq\": 292}, {\"bigrams\": \"even_worth\", \"keyness\": 38.144, \"corpus_freq\": 110, \"reference_freq\": 5}, {\"bigrams\": \"go_wrong\", \"keyness\": 38.135, \"corpus_freq\": 501, \"reference_freq\": 280}, {\"bigrams\": \"old_loves\", \"keyness\": 37.936, \"corpus_freq\": 141, \"reference_freq\": 110}, {\"bigrams\": \"best_video\", \"keyness\": 37.815, \"corpus_freq\": 128, \"reference_freq\": 103}, {\"bigrams\": \"classic_best\", \"keyness\": 37.788, \"corpus_freq\": 71, \"reference_freq\": 71}, {\"bigrams\": \"would_definitely\", \"keyness\": 37.423, \"corpus_freq\": 335, \"reference_freq\": 204}, {\"bigrams\": \"awesome_graphics\", \"keyness\": 37.414, \"corpus_freq\": 173, \"reference_freq\": 126}, {\"bigrams\": \"metal_gear\", \"keyness\": 37.402, \"corpus_freq\": 860, \"reference_freq\": 433}]}}, {\"mode\": \"vega-lite\"});\n",
              "</script>"
            ]
          },
          "metadata": {
            "tags": []
          },
          "execution_count": 18
        }
      ]
    },
    {
      "cell_type": "code",
      "metadata": {
        "id": "FIkXl_s5K6lI",
        "colab_type": "code",
        "colab": {
          "base_uri": "https://localhost:8080/",
          "height": 368
        },
        "outputId": "0297ec89-c1ad-4653-ba42-00898d49231c"
      },
      "source": [
        "negative_df = pd.DataFrame({\"bigrams\": [e[0] for e in negative_keys],\n",
        "                     \"keyness\": [e[1] for e in negative_keys],\n",
        "                     \"corpus_freq\": [e[2] for e in negative_keys],\n",
        "                     \"reference_freq\": [e[3] for e in negative_keys]})\n",
        "\n",
        "alt.Chart(negative_df).mark_point().encode(\n",
        "    x='keyness:Q',\n",
        "    y='reference_freq:Q',\n",
        "    color='keyness:Q',\n",
        "    tooltip=[\"words:N\", \"reference_freq:Q\"],\n",
        ").interactive()"
      ],
      "execution_count": null,
      "outputs": [
        {
          "output_type": "execute_result",
          "data": {
            "text/plain": [
              "alt.Chart(...)"
            ],
            "text/html": [
              "\n",
              "<div id=\"altair-viz-06e219fdce63434faf113b50187b4062\"></div>\n",
              "<script type=\"text/javascript\">\n",
              "  (function(spec, embedOpt){\n",
              "    let outputDiv = document.currentScript.previousElementSibling;\n",
              "    if (outputDiv.id !== \"altair-viz-06e219fdce63434faf113b50187b4062\") {\n",
              "      outputDiv = document.getElementById(\"altair-viz-06e219fdce63434faf113b50187b4062\");\n",
              "    }\n",
              "    const paths = {\n",
              "      \"vega\": \"https://cdn.jsdelivr.net/npm//vega@5?noext\",\n",
              "      \"vega-lib\": \"https://cdn.jsdelivr.net/npm//vega-lib?noext\",\n",
              "      \"vega-lite\": \"https://cdn.jsdelivr.net/npm//vega-lite@4.8.1?noext\",\n",
              "      \"vega-embed\": \"https://cdn.jsdelivr.net/npm//vega-embed@6?noext\",\n",
              "    };\n",
              "\n",
              "    function loadScript(lib) {\n",
              "      return new Promise(function(resolve, reject) {\n",
              "        var s = document.createElement('script');\n",
              "        s.src = paths[lib];\n",
              "        s.async = true;\n",
              "        s.onload = () => resolve(paths[lib]);\n",
              "        s.onerror = () => reject(`Error loading script: ${paths[lib]}`);\n",
              "        document.getElementsByTagName(\"head\")[0].appendChild(s);\n",
              "      });\n",
              "    }\n",
              "\n",
              "    function showError(err) {\n",
              "      outputDiv.innerHTML = `<div class=\"error\" style=\"color:red;\">${err}</div>`;\n",
              "      throw err;\n",
              "    }\n",
              "\n",
              "    function displayChart(vegaEmbed) {\n",
              "      vegaEmbed(outputDiv, spec, embedOpt)\n",
              "        .catch(err => showError(`Javascript Error: ${err.message}<br>This usually means there's a typo in your chart specification. See the javascript console for the full traceback.`));\n",
              "    }\n",
              "\n",
              "    if(typeof define === \"function\" && define.amd) {\n",
              "      requirejs.config({paths});\n",
              "      require([\"vega-embed\"], displayChart, err => showError(`Error loading script: ${err.message}`));\n",
              "    } else if (typeof vegaEmbed === \"function\") {\n",
              "      displayChart(vegaEmbed);\n",
              "    } else {\n",
              "      loadScript(\"vega\")\n",
              "        .then(() => loadScript(\"vega-lite\"))\n",
              "        .then(() => loadScript(\"vega-embed\"))\n",
              "        .catch(showError)\n",
              "        .then(() => displayChart(vegaEmbed));\n",
              "    }\n",
              "  })({\"config\": {\"view\": {\"continuousWidth\": 400, \"continuousHeight\": 300}}, \"data\": {\"name\": \"data-4c3b7c1d2bc013a3386b30cbc20e6581\"}, \"mark\": \"point\", \"encoding\": {\"color\": {\"type\": \"quantitative\", \"field\": \"keyness\"}, \"tooltip\": [{\"type\": \"nominal\", \"field\": \"words\"}, {\"type\": \"quantitative\", \"field\": \"reference_freq\"}], \"x\": {\"type\": \"quantitative\", \"field\": \"keyness\"}, \"y\": {\"type\": \"quantitative\", \"field\": \"reference_freq\"}}, \"selection\": {\"selector003\": {\"type\": \"interval\", \"bind\": \"scales\", \"encodings\": [\"x\", \"y\"]}}, \"$schema\": \"https://vega.github.io/schema/vega-lite/v4.8.1.json\", \"datasets\": {\"data-4c3b7c1d2bc013a3386b30cbc20e6581\": [{\"bigrams\": \"great_game\", \"keyness\": 484.573, \"corpus_freq\": 5891, \"reference_freq\": 417}, {\"bigrams\": \"waste_money\", \"keyness\": 425.355, \"corpus_freq\": 491, \"reference_freq\": 401}, {\"bigrams\": \"highly_recommend\", \"keyness\": 237.93, \"corpus_freq\": 1735, \"reference_freq\": 78}, {\"bigrams\": \"lot_fun\", \"keyness\": 225.84, \"corpus_freq\": 1767, \"reference_freq\": 86}, {\"bigrams\": \"fun_game\", \"keyness\": 220.715, \"corpus_freq\": 3283, \"reference_freq\": 263}, {\"bigrams\": \"love_game\", \"keyness\": 199.837, \"corpus_freq\": 2455, \"reference_freq\": 175}, {\"bigrams\": \"save_money\", \"keyness\": 199.117, \"corpus_freq\": 340, \"reference_freq\": 230}, {\"bigrams\": \"game_great\", \"keyness\": 161.053, \"corpus_freq\": 2476, \"reference_freq\": 202}, {\"bigrams\": \"game_fun\", \"keyness\": 154.292, \"corpus_freq\": 2240, \"reference_freq\": 177}, {\"bigrams\": \"really_fun\", \"keyness\": 152.932, \"corpus_freq\": 1124, \"reference_freq\": 51}, {\"bigrams\": \"stopped_working\", \"keyness\": 150.553, \"corpus_freq\": 194, \"reference_freq\": 150}, {\"bigrams\": \"waste_time\", \"keyness\": 145.561, \"corpus_freq\": 411, \"reference_freq\": 224}, {\"bigrams\": \"works_great\", \"keyness\": 142.508, \"corpus_freq\": 1744, \"reference_freq\": 124}, {\"bigrams\": \"best_games\", \"keyness\": 141.165, \"corpus_freq\": 1006, \"reference_freq\": 44}, {\"bigrams\": \"worst_game\", \"keyness\": 140.507, \"corpus_freq\": 166, \"reference_freq\": 134}, {\"bigrams\": \"voice_acting\", \"keyness\": 135.227, \"corpus_freq\": 2090, \"reference_freq\": 171}, {\"bigrams\": \"final_fantasy\", \"keyness\": 130.215, \"corpus_freq\": 2517, \"reference_freq\": 230}, {\"bigrams\": \"good_game\", \"keyness\": 128.281, \"corpus_freq\": 3595, \"reference_freq\": 380}, {\"bigrams\": \"fun_play\", \"keyness\": 127.018, \"corpus_freq\": 1806, \"reference_freq\": 141}, {\"bigrams\": \"customer_service\", \"keyness\": 126.175, \"corpus_freq\": 184, \"reference_freq\": 134}, {\"bigrams\": \"well_done\", \"keyness\": 117.684, \"corpus_freq\": 1194, \"reference_freq\": 74}, {\"bigrams\": \"hard_drive\", \"keyness\": 113.733, \"corpus_freq\": 614, \"reference_freq\": 264}, {\"bigrams\": \"game_lot\", \"keyness\": 112.562, \"corpus_freq\": 1099, \"reference_freq\": 66}, {\"bigrams\": \"recommend_game\", \"keyness\": 112.312, \"corpus_freq\": 1402, \"reference_freq\": 101}, {\"bigrams\": \"well_worth\", \"keyness\": 110.58, \"corpus_freq\": 913, \"reference_freq\": 47}, {\"bigrams\": \"never_buy\", \"keyness\": 105.2, \"corpus_freq\": 121, \"reference_freq\": 99}, {\"bigrams\": \"internet_connection\", \"keyness\": 101.61, \"corpus_freq\": 295, \"reference_freq\": 159}, {\"bigrams\": \"stay_away\", \"keyness\": 100.401, \"corpus_freq\": 205, \"reference_freq\": 128}, {\"bigrams\": \"game_amazing\", \"keyness\": 100.167, \"corpus_freq\": 581, \"reference_freq\": 19}, {\"bigrams\": \"first_game\", \"keyness\": 98.68, \"corpus_freq\": 2334, \"reference_freq\": 232}, {\"bigrams\": \"buy_game\", \"keyness\": 98.534, \"corpus_freq\": 1671, \"reference_freq\": 524}, {\"bigrams\": \"game_sucks\", \"keyness\": 94.454, \"corpus_freq\": 161, \"reference_freq\": 109}, {\"bigrams\": \"memory_card\", \"keyness\": 93.843, \"corpus_freq\": 664, \"reference_freq\": 262}, {\"bigrams\": \"game_really\", \"keyness\": 92.722, \"corpus_freq\": 2622, \"reference_freq\": 278}, {\"bigrams\": \"money_back\", \"keyness\": 91.036, \"corpus_freq\": 108, \"reference_freq\": 87}, {\"bigrams\": \"replay_value\", \"keyness\": 90.352, \"corpus_freq\": 1628, \"reference_freq\": 144}, {\"bigrams\": \"excellent_game\", \"keyness\": 86.968, \"corpus_freq\": 544, \"reference_freq\": 20}, {\"bigrams\": \"highly_recommended\", \"keyness\": 84.95, \"corpus_freq\": 621, \"reference_freq\": 28}, {\"bigrams\": \"worst_games\", \"keyness\": 84.016, \"corpus_freq\": 82, \"reference_freq\": 73}, {\"bigrams\": \"loves_game\", \"keyness\": 83.802, \"corpus_freq\": 374, \"reference_freq\": 7}, {\"bigrams\": \"much_fun\", \"keyness\": 82.885, \"corpus_freq\": 1462, \"reference_freq\": 128}, {\"bigrams\": \"kids_love\", \"keyness\": 81.346, \"corpus_freq\": 406, \"reference_freq\": 10}, {\"bigrams\": \"game_best\", \"keyness\": 80.486, \"corpus_freq\": 829, \"reference_freq\": 52}, {\"bigrams\": \"throughout_game\", \"keyness\": 80.247, \"corpus_freq\": 872, \"reference_freq\": 57}, {\"bigrams\": \"great_story\", \"keyness\": 79.969, \"corpus_freq\": 708, \"reference_freq\": 39}, {\"bigrams\": \"fast_shipping\", \"keyness\": 79.912, \"corpus_freq\": 347, \"reference_freq\": 6}, {\"bigrams\": \"best_game\", \"keyness\": 79.375, \"corpus_freq\": 1184, \"reference_freq\": 95}, {\"bigrams\": \"really_enjoyed\", \"keyness\": 76.318, \"corpus_freq\": 683, \"reference_freq\": 38}, {\"bigrams\": \"excellent_product\", \"keyness\": 76.25, \"corpus_freq\": 401, \"reference_freq\": 11}, {\"bigrams\": \"still_fun\", \"keyness\": 76.007, \"corpus_freq\": 773, \"reference_freq\": 48}, {\"bigrams\": \"pretty_good\", \"keyness\": 75.839, \"corpus_freq\": 1943, \"reference_freq\": 199}, {\"bigrams\": \"auction_house\", \"keyness\": 75.516, \"corpus_freq\": 162, \"reference_freq\": 99}, {\"bigrams\": \"great_fun\", \"keyness\": 73.059, \"corpus_freq\": 523, \"reference_freq\": 23}, {\"bigrams\": \"tech_support\", \"keyness\": 72.829, \"corpus_freq\": 80, \"reference_freq\": 67}, {\"bigrams\": \"even_get\", \"keyness\": 70.979, \"corpus_freq\": 391, \"reference_freq\": 167}, {\"bigrams\": \"piece_crap\", \"keyness\": 70.104, \"corpus_freq\": 71, \"reference_freq\": 62}, {\"bigrams\": \"windows_live\", \"keyness\": 68.757, \"corpus_freq\": 95, \"reference_freq\": 71}, {\"bigrams\": \"great_graphics\", \"keyness\": 68.707, \"corpus_freq\": 934, \"reference_freq\": 71}, {\"bigrams\": \"amazing_game\", \"keyness\": 68.351, \"corpus_freq\": 602, \"reference_freq\": 33}, {\"bigrams\": \"story_line\", \"keyness\": 67.962, \"corpus_freq\": 1470, \"reference_freq\": 141}, {\"bigrams\": \"awesome_game\", \"keyness\": 67.099, \"corpus_freq\": 942, \"reference_freq\": 73}, {\"bigrams\": \"game_definitely\", \"keyness\": 66.505, \"corpus_freq\": 527, \"reference_freq\": 26}, {\"bigrams\": \"game_love\", \"keyness\": 65.101, \"corpus_freq\": 670, \"reference_freq\": 42}, {\"bigrams\": \"game_terrible\", \"keyness\": 64.353, \"corpus_freq\": 137, \"reference_freq\": 84}, {\"bigrams\": \"game_horrible\", \"keyness\": 64.353, \"corpus_freq\": 120, \"reference_freq\": 78}, {\"bigrams\": \"would_work\", \"keyness\": 64.233, \"corpus_freq\": 255, \"reference_freq\": 122}, {\"bigrams\": \"game_awesome\", \"keyness\": 63.081, \"corpus_freq\": 643, \"reference_freq\": 40}, {\"bigrams\": \"wasted_money\", \"keyness\": 62.351, \"corpus_freq\": 75, \"reference_freq\": 60}, {\"bigrams\": \"enjoyed_game\", \"keyness\": 61.987, \"corpus_freq\": 479, \"reference_freq\": 23}, {\"bigrams\": \"even_worth\", \"keyness\": 61.77, \"corpus_freq\": 110, \"reference_freq\": 73}, {\"bigrams\": \"time_money\", \"keyness\": 61.115, \"corpus_freq\": 191, \"reference_freq\": 100}, {\"bigrams\": \"even_worse\", \"keyness\": 60.925, \"corpus_freq\": 204, \"reference_freq\": 104}, {\"bigrams\": \"even_better\", \"keyness\": 60.817, \"corpus_freq\": 828, \"reference_freq\": 63}, {\"bigrams\": \"get_used\", \"keyness\": 60.63, \"corpus_freq\": 1141, \"reference_freq\": 103}, {\"bigrams\": \"game_much\", \"keyness\": 60.243, \"corpus_freq\": 1507, \"reference_freq\": 153}, {\"bigrams\": \"money_game\", \"keyness\": 59.92, \"corpus_freq\": 184, \"reference_freq\": 97}, {\"bigrams\": \"real_money\", \"keyness\": 58.735, \"corpus_freq\": 126, \"reference_freq\": 77}, {\"bigrams\": \"great_gameplay\", \"keyness\": 58.731, \"corpus_freq\": 303, \"reference_freq\": 8}, {\"bigrams\": \"install_game\", \"keyness\": 58.369, \"corpus_freq\": 118, \"reference_freq\": 74}, {\"bigrams\": \"get_work\", \"keyness\": 57.79, \"corpus_freq\": 201, \"reference_freq\": 101}, {\"bigrams\": \"favorite_game\", \"keyness\": 57.443, \"corpus_freq\": 499, \"reference_freq\": 27}, {\"bigrams\": \"game_worst\", \"keyness\": 56.639, \"corpus_freq\": 77, \"reference_freq\": 58}, {\"bigrams\": \"kingdom_hearts\", \"keyness\": 56.264, \"corpus_freq\": 436, \"reference_freq\": 21}, {\"bigrams\": \"dark_souls\", \"keyness\": 55.495, \"corpus_freq\": 546, \"reference_freq\": 33}, {\"bigrams\": \"game_story\", \"keyness\": 55.321, \"corpus_freq\": 767, \"reference_freq\": 59}, {\"bigrams\": \"far_best\", \"keyness\": 55.024, \"corpus_freq\": 411, \"reference_freq\": 19}, {\"bigrams\": \"great_product\", \"keyness\": 54.115, \"corpus_freq\": 785, \"reference_freq\": 62}, {\"bigrams\": \"great_addition\", \"keyness\": 54.03, \"corpus_freq\": 322, \"reference_freq\": 11}, {\"bigrams\": \"quite_good\", \"keyness\": 53.996, \"corpus_freq\": 355, \"reference_freq\": 14}, {\"bigrams\": \"great_price\", \"keyness\": 53.994, \"corpus_freq\": 644, \"reference_freq\": 45}, {\"bigrams\": \"greatest_video\", \"keyness\": 52.925, \"corpus_freq\": 155, \"reference_freq\": 0}, {\"bigrams\": \"customer_support\", \"keyness\": 52.635, \"corpus_freq\": 85, \"reference_freq\": 59}, {\"bigrams\": \"really_good\", \"keyness\": 52.503, \"corpus_freq\": 1545, \"reference_freq\": 166}, {\"bigrams\": \"could_even\", \"keyness\": 52.414, \"corpus_freq\": 190, \"reference_freq\": 94}, {\"bigrams\": \"definitely_recommend\", \"keyness\": 52.292, \"corpus_freq\": 410, \"reference_freq\": 20}, {\"bigrams\": \"battle_system\", \"keyness\": 52.243, \"corpus_freq\": 799, \"reference_freq\": 65}, {\"bigrams\": \"metal_gear\", \"keyness\": 51.884, \"corpus_freq\": 860, \"reference_freq\": 73}, {\"bigrams\": \"best_best\", \"keyness\": 50.72, \"corpus_freq\": 223, \"reference_freq\": 4}, {\"bigrams\": \"top_notch\", \"keyness\": 50.396, \"corpus_freq\": 618, \"reference_freq\": 44}, {\"bigrams\": \"along_way\", \"keyness\": 50.256, \"corpus_freq\": 540, \"reference_freq\": 35}, {\"bigrams\": \"even_work\", \"keyness\": 49.471, \"corpus_freq\": 58, \"reference_freq\": 47}, {\"bigrams\": \"horrible_game\", \"keyness\": 49.193, \"corpus_freq\": 107, \"reference_freq\": 65}, {\"bigrams\": \"error_message\", \"keyness\": 49.146, \"corpus_freq\": 44, \"reference_freq\": 41}, {\"bigrams\": \"really_cool\", \"keyness\": 48.73, \"corpus_freq\": 576, \"reference_freq\": 40}, {\"bigrams\": \"loved_game\", \"keyness\": 48.141, \"corpus_freq\": 486, \"reference_freq\": 30}, {\"bigrams\": \"power_supply\", \"keyness\": 47.826, \"corpus_freq\": 81, \"reference_freq\": 55}, {\"bigrams\": \"story_mode\", \"keyness\": 47.796, \"corpus_freq\": 1040, \"reference_freq\": 100}, {\"bigrams\": \"game_well\", \"keyness\": 47.702, \"corpus_freq\": 995, \"reference_freq\": 94}, {\"bigrams\": \"works_well\", \"keyness\": 47.539, \"corpus_freq\": 1097, \"reference_freq\": 108}, {\"bigrams\": \"survival_horror\", \"keyness\": 47.044, \"corpus_freq\": 525, \"reference_freq\": 35}, {\"bigrams\": \"good_story\", \"keyness\": 46.096, \"corpus_freq\": 580, \"reference_freq\": 42}, {\"bigrams\": \"great_job\", \"keyness\": 45.475, \"corpus_freq\": 465, \"reference_freq\": 29}, {\"bigrams\": \"piece_junk\", \"keyness\": 45.412, \"corpus_freq\": 48, \"reference_freq\": 41}, {\"bigrams\": \"credit_card\", \"keyness\": 44.928, \"corpus_freq\": 77, \"reference_freq\": 52}, {\"bigrams\": \"side_missions\", \"keyness\": 44.88, \"corpus_freq\": 607, \"reference_freq\": 46}, {\"bigrams\": \"graphics_great\", \"keyness\": 44.854, \"corpus_freq\": 835, \"reference_freq\": 75}, {\"bigrams\": \"money_buy\", \"keyness\": 44.733, \"corpus_freq\": 181, \"reference_freq\": 86}, {\"bigrams\": \"every_time\", \"keyness\": 44.373, \"corpus_freq\": 1093, \"reference_freq\": 317}, {\"bigrams\": \"work_properly\", \"keyness\": 44.36, \"corpus_freq\": 89, \"reference_freq\": 56}, {\"bigrams\": \"main_story\", \"keyness\": 44.189, \"corpus_freq\": 520, \"reference_freq\": 36}, {\"bigrams\": \"game_pretty\", \"keyness\": 44.151, \"corpus_freq\": 1002, \"reference_freq\": 98}, {\"bigrams\": \"memory_cards\", \"keyness\": 44.149, \"corpus_freq\": 216, \"reference_freq\": 96}, {\"bigrams\": \"new_weapons\", \"keyness\": 44.06, \"corpus_freq\": 337, \"reference_freq\": 16}, {\"bigrams\": \"solid_game\", \"keyness\": 43.705, \"corpus_freq\": 305, \"reference_freq\": 13}, {\"bigrams\": \"gameplay_great\", \"keyness\": 43.687, \"corpus_freq\": 226, \"reference_freq\": 6}, {\"bigrams\": \"alan_wake\", \"keyness\": 43.613, \"corpus_freq\": 213, \"reference_freq\": 5}, {\"bigrams\": \"make_sure\", \"keyness\": 43.12, \"corpus_freq\": 1032, \"reference_freq\": 301}, {\"bigrams\": \"send_back\", \"keyness\": 43.053, \"corpus_freq\": 77, \"reference_freq\": 51}, {\"bigrams\": \"probably_best\", \"keyness\": 43.012, \"corpus_freq\": 480, \"reference_freq\": 32}, {\"bigrams\": \"used_controls\", \"keyness\": 42.681, \"corpus_freq\": 125, \"reference_freq\": 0}, {\"bigrams\": \"even_play\", \"keyness\": 42.62, \"corpus_freq\": 262, \"reference_freq\": 108}, {\"bigrams\": \"game_unplayable\", \"keyness\": 42.541, \"corpus_freq\": 75, \"reference_freq\": 50}, {\"bigrams\": \"play_game\", \"keyness\": 42.473, \"corpus_freq\": 3635, \"reference_freq\": 871}, {\"bigrams\": \"game_nice\", \"keyness\": 42.169, \"corpus_freq\": 256, \"reference_freq\": 9}, {\"bigrams\": \"definitely_worth\", \"keyness\": 42.158, \"corpus_freq\": 527, \"reference_freq\": 38}, {\"bigrams\": \"quite_fun\", \"keyness\": 42.001, \"corpus_freq\": 244, \"reference_freq\": 8}, {\"bigrams\": \"recommend_anyone\", \"keyness\": 41.872, \"corpus_freq\": 567, \"reference_freq\": 43}, {\"bigrams\": \"buy_games\", \"keyness\": 41.648, \"corpus_freq\": 165, \"reference_freq\": 79}, {\"bigrams\": \"game_challenging\", \"keyness\": 41.625, \"corpus_freq\": 254, \"reference_freq\": 9}, {\"bigrams\": \"worst_ever\", \"keyness\": 41.567, \"corpus_freq\": 50, \"reference_freq\": 40}, {\"bigrams\": \"game_work\", \"keyness\": 41.359, \"corpus_freq\": 206, \"reference_freq\": 91}, {\"bigrams\": \"turtle_beach\", \"keyness\": 41.304, \"corpus_freq\": 528, \"reference_freq\": 177}, {\"bigrams\": \"old_school\", \"keyness\": 41.218, \"corpus_freq\": 644, \"reference_freq\": 53}, {\"bigrams\": \"adventure_game\", \"keyness\": 41.142, \"corpus_freq\": 373, \"reference_freq\": 21}, {\"bigrams\": \"story_great\", \"keyness\": 40.99, \"corpus_freq\": 344, \"reference_freq\": 18}, {\"bigrams\": \"super_fun\", \"keyness\": 40.808, \"corpus_freq\": 216, \"reference_freq\": 6}, {\"bigrams\": \"buy_another\", \"keyness\": 40.757, \"corpus_freq\": 211, \"reference_freq\": 92}, {\"bigrams\": \"really_great\", \"keyness\": 40.434, \"corpus_freq\": 535, \"reference_freq\": 40}, {\"bigrams\": \"game_waste\", \"keyness\": 40.257, \"corpus_freq\": 62, \"reference_freq\": 44}, {\"bigrams\": \"amazing_graphics\", \"keyness\": 40.204, \"corpus_freq\": 281, \"reference_freq\": 12}]}}, {\"mode\": \"vega-lite\"});\n",
              "</script>"
            ]
          },
          "metadata": {
            "tags": []
          },
          "execution_count": 20
        }
      ]
    },
    {
      "cell_type": "code",
      "metadata": {
        "id": "IwSyDkRlNoZL",
        "colab_type": "code",
        "colab": {
          "base_uri": "https://localhost:8080/",
          "height": 368
        },
        "outputId": "eb3faac5-620b-41fd-b5f5-bb574608f740"
      },
      "source": [
        "neutral_df = pd.DataFrame({\"bigrams\": [e[0] for e in neutral_keys],\n",
        "                     \"keyness\": [e[1] for e in neutral_keys],\n",
        "                     \"corpus_freq\": [e[2] for e in neutral_keys],\n",
        "                     \"reference_freq\": [e[3] for e in neutral_keys]})\n",
        "\n",
        "alt.Chart(neutral_df).mark_point().encode(\n",
        "    x='keyness:Q',\n",
        "    y='reference_freq:Q',\n",
        "    color='keyness:Q',\n",
        "    tooltip=[\"words:N\", \"reference_freq:Q\"],\n",
        ").interactive()"
      ],
      "execution_count": null,
      "outputs": [
        {
          "output_type": "execute_result",
          "data": {
            "text/plain": [
              "alt.Chart(...)"
            ],
            "text/html": [
              "\n",
              "<div id=\"altair-viz-b61c95852914479c805e0e33da434e10\"></div>\n",
              "<script type=\"text/javascript\">\n",
              "  (function(spec, embedOpt){\n",
              "    const outputDiv = document.getElementById(\"altair-viz-b61c95852914479c805e0e33da434e10\");\n",
              "    const paths = {\n",
              "      \"vega\": \"https://cdn.jsdelivr.net/npm//vega@5?noext\",\n",
              "      \"vega-lib\": \"https://cdn.jsdelivr.net/npm//vega-lib?noext\",\n",
              "      \"vega-lite\": \"https://cdn.jsdelivr.net/npm//vega-lite@4.0.2?noext\",\n",
              "      \"vega-embed\": \"https://cdn.jsdelivr.net/npm//vega-embed@6?noext\",\n",
              "    };\n",
              "\n",
              "    function loadScript(lib) {\n",
              "      return new Promise(function(resolve, reject) {\n",
              "        var s = document.createElement('script');\n",
              "        s.src = paths[lib];\n",
              "        s.async = true;\n",
              "        s.onload = () => resolve(paths[lib]);\n",
              "        s.onerror = () => reject(`Error loading script: ${paths[lib]}`);\n",
              "        document.getElementsByTagName(\"head\")[0].appendChild(s);\n",
              "      });\n",
              "    }\n",
              "\n",
              "    function showError(err) {\n",
              "      outputDiv.innerHTML = `<div class=\"error\" style=\"color:red;\">${err}</div>`;\n",
              "      throw err;\n",
              "    }\n",
              "\n",
              "    function displayChart(vegaEmbed) {\n",
              "      vegaEmbed(outputDiv, spec, embedOpt)\n",
              "        .catch(err => showError(`Javascript Error: ${err.message}<br>This usually means there's a typo in your chart specification. See the javascript console for the full traceback.`));\n",
              "    }\n",
              "\n",
              "    if(typeof define === \"function\" && define.amd) {\n",
              "      requirejs.config({paths});\n",
              "      require([\"vega-embed\"], displayChart, err => showError(`Error loading script: ${err.message}`));\n",
              "    } else if (typeof vegaEmbed === \"function\") {\n",
              "      displayChart(vegaEmbed);\n",
              "    } else {\n",
              "      loadScript(\"vega\")\n",
              "        .then(() => loadScript(\"vega-lite\"))\n",
              "        .then(() => loadScript(\"vega-embed\"))\n",
              "        .catch(showError)\n",
              "        .then(() => displayChart(vegaEmbed));\n",
              "    }\n",
              "  })({\"config\": {\"view\": {\"continuousWidth\": 400, \"continuousHeight\": 300}}, \"data\": {\"name\": \"data-e8ab6e8d6a50dbec4fdd1841a4c96fae\"}, \"mark\": \"point\", \"encoding\": {\"color\": {\"type\": \"quantitative\", \"field\": \"keyness\"}, \"tooltip\": [{\"type\": \"nominal\", \"field\": \"words\"}, {\"type\": \"quantitative\", \"field\": \"subcorpus_frequency\"}], \"x\": {\"type\": \"quantitative\", \"field\": \"keyness\"}, \"y\": {\"type\": \"quantitative\", \"field\": \"corpus_frequency\"}}, \"selection\": {\"selector006\": {\"type\": \"interval\", \"bind\": \"scales\", \"encodings\": [\"x\", \"y\"]}}, \"$schema\": \"https://vega.github.io/schema/vega-lite/v4.0.2.json\", \"datasets\": {\"data-e8ab6e8d6a50dbec4fdd1841a4c96fae\": [{\"words\": \"great_game\", \"keyness\": 349.86, \"corpus_frequency\": 5891, \"subcorpus_frequency\": 1669}, {\"words\": \"works_great\", \"keyness\": 293.783, \"corpus_frequency\": 1744, \"subcorpus_frequency\": 315}, {\"words\": \"great_product\", \"keyness\": 292.941, \"corpus_frequency\": 785, \"subcorpus_frequency\": 64}, {\"words\": \"love_game\", \"keyness\": 281.04, \"corpus_frequency\": 2455, \"subcorpus_frequency\": 547}, {\"words\": \"fast_shipping\", \"keyness\": 237.621, \"corpus_frequency\": 347, \"subcorpus_frequency\": 3}, {\"words\": \"highly_recommend\", \"keyness\": 223.609, \"corpus_frequency\": 1735, \"subcorpus_frequency\": 365}, {\"words\": \"excellent_product\", \"keyness\": 220.796, \"corpus_frequency\": 401, \"subcorpus_frequency\": 13}, {\"words\": \"best_games\", \"keyness\": 191.99, \"corpus_frequency\": 1006, \"subcorpus_frequency\": 167}, {\"words\": \"awesome_game\", \"keyness\": 180.38, \"corpus_frequency\": 942, \"subcorpus_frequency\": 156}, {\"words\": \"game_ever\", \"keyness\": 170.659, \"corpus_frequency\": 1726, \"subcorpus_frequency\": 410}, {\"words\": \"kids_love\", \"keyness\": 166.952, \"corpus_frequency\": 406, \"subcorpus_frequency\": 28}, {\"words\": \"games_ever\", \"keyness\": 163.626, \"corpus_frequency\": 1083, \"subcorpus_frequency\": 209}, {\"words\": \"ever_played\", \"keyness\": 145.486, \"corpus_frequency\": 1437, \"subcorpus_frequency\": 338}, {\"words\": \"best_game\", \"keyness\": 143.253, \"corpus_frequency\": 1184, \"subcorpus_frequency\": 257}, {\"words\": \"loves_game\", \"keyness\": 124.586, \"corpus_frequency\": 374, \"subcorpus_frequency\": 36}, {\"words\": \"waste_money\", \"keyness\": 123.317, \"corpus_frequency\": 491, \"subcorpus_frequency\": 65}, {\"words\": \"great_price\", \"keyness\": 122.754, \"corpus_frequency\": 644, \"subcorpus_frequency\": 107}, {\"words\": \"game_awesome\", \"keyness\": 116.02, \"corpus_frequency\": 643, \"subcorpus_frequency\": 111}, {\"words\": \"arrived_time\", \"keyness\": 104.782, \"corpus_frequency\": 286, \"subcorpus_frequency\": 24}, {\"words\": \"game_amazing\", \"keyness\": 96.331, \"corpus_frequency\": 581, \"subcorpus_frequency\": 106}, {\"words\": \"highly_recommended\", \"keyness\": 94.966, \"corpus_frequency\": 621, \"subcorpus_frequency\": 119}, {\"words\": \"perfect_condition\", \"keyness\": 94.933, \"corpus_frequency\": 221, \"subcorpus_frequency\": 14}, {\"words\": \"universe_true\", \"keyness\": 87.914, \"corpus_frequency\": 115, \"subcorpus_frequency\": 0}, {\"words\": \"video_game\", \"keyness\": 86.811, \"corpus_frequency\": 2531, \"subcorpus_frequency\": 819}, {\"words\": \"best_best\", \"keyness\": 80.895, \"corpus_frequency\": 223, \"subcorpus_frequency\": 19}, {\"words\": \"amazing_game\", \"keyness\": 79.589, \"corpus_frequency\": 602, \"subcorpus_frequency\": 125}, {\"words\": \"buy_game\", \"keyness\": 79.114, \"corpus_frequency\": 1671, \"subcorpus_frequency\": 503}, {\"words\": \"thank_much\", \"keyness\": 78.254, \"corpus_frequency\": 151, \"subcorpus_frequency\": 6}, {\"words\": \"ever_made\", \"keyness\": 72.954, \"corpus_frequency\": 625, \"subcorpus_frequency\": 138}, {\"words\": \"must_buy\", \"keyness\": 72.92, \"corpus_frequency\": 572, \"subcorpus_frequency\": 121}, {\"words\": \"mario_kart\", \"keyness\": 71.496, \"corpus_frequency\": 970, \"subcorpus_frequency\": 257}, {\"words\": \"fast_delivery\", \"keyness\": 70.695, \"corpus_frequency\": 157, \"subcorpus_frequency\": 9}, {\"words\": \"great_item\", \"keyness\": 70.054, \"corpus_frequency\": 139, \"subcorpus_frequency\": 6}, {\"words\": \"worth_every\", \"keyness\": 68.802, \"corpus_frequency\": 329, \"subcorpus_frequency\": 51}, {\"words\": \"greatest_video\", \"keyness\": 65.979, \"corpus_frequency\": 155, \"subcorpus_frequency\": 10}, {\"words\": \"grandson_loves\", \"keyness\": 65.463, \"corpus_frequency\": 138, \"subcorpus_frequency\": 7}, {\"words\": \"product_fast\", \"keyness\": 64.98, \"corpus_frequency\": 85, \"subcorpus_frequency\": 0}, {\"words\": \"item_described\", \"keyness\": 64.975, \"corpus_frequency\": 105, \"subcorpus_frequency\": 2}, {\"words\": \"good_product\", \"keyness\": 64.859, \"corpus_frequency\": 410, \"subcorpus_frequency\": 77}, {\"words\": \"great_condition\", \"keyness\": 63.369, \"corpus_frequency\": 235, \"subcorpus_frequency\": 29}, {\"words\": \"great_gift\", \"keyness\": 61.94, \"corpus_frequency\": 127, \"subcorpus_frequency\": 6}, {\"words\": \"works_perfectly\", \"keyness\": 60.676, \"corpus_frequency\": 426, \"subcorpus_frequency\": 85}, {\"words\": \"much_fun\", \"keyness\": 59.567, \"corpus_frequency\": 1462, \"subcorpus_frequency\": 456}, {\"words\": \"brand_new\", \"keyness\": 56.831, \"corpus_frequency\": 739, \"subcorpus_frequency\": 193}, {\"words\": \"pretty_good\", \"keyness\": 56.678, \"corpus_frequency\": 1943, \"subcorpus_frequency\": 1197}, {\"words\": \"excelente_producto\", \"keyness\": 56.571, \"corpus_frequency\": 74, \"subcorpus_frequency\": 0}, {\"words\": \"classic_best\", \"keyness\": 54.277, \"corpus_frequency\": 71, \"subcorpus_frequency\": 0}, {\"words\": \"love_love\", \"keyness\": 52.142, \"corpus_frequency\": 236, \"subcorpus_frequency\": 35}, {\"words\": \"game_great\", \"keyness\": 52.01, \"corpus_frequency\": 2476, \"subcorpus_frequency\": 873}, {\"words\": \"game_love\", \"keyness\": 51.508, \"corpus_frequency\": 670, \"subcorpus_frequency\": 175}, {\"words\": \"excellent_condition\", \"keyness\": 50.87, \"corpus_frequency\": 121, \"subcorpus_frequency\": 8}, {\"words\": \"product_described\", \"keyness\": 48.98, \"corpus_frequency\": 75, \"subcorpus_frequency\": 1}, {\"words\": \"great_seller\", \"keyness\": 48.243, \"corpus_frequency\": 74, \"subcorpus_frequency\": 1}, {\"words\": \"excellent_game\", \"keyness\": 48.173, \"corpus_frequency\": 544, \"subcorpus_frequency\": 135}, {\"words\": \"every_penny\", \"keyness\": 47.601, \"corpus_frequency\": 248, \"subcorpus_frequency\": 41}, {\"words\": \"exactly_described\", \"keyness\": 47.07, \"corpus_frequency\": 115, \"subcorpus_frequency\": 8}, {\"words\": \"great_service\", \"keyness\": 46.387, \"corpus_frequency\": 86, \"subcorpus_frequency\": 3}, {\"words\": \"well_worth\", \"keyness\": 46.353, \"corpus_frequency\": 913, \"subcorpus_frequency\": 270}, {\"words\": \"recommend_anyone\", \"keyness\": 46.291, \"corpus_frequency\": 567, \"subcorpus_frequency\": 145}, {\"words\": \"christmas_gift\", \"keyness\": 45.425, \"corpus_frequency\": 153, \"subcorpus_frequency\": 17}, {\"words\": \"worked_perfectly\", \"keyness\": 43.666, \"corpus_frequency\": 162, \"subcorpus_frequency\": 20}, {\"words\": \"absolutely_love\", \"keyness\": 43.004, \"corpus_frequency\": 314, \"subcorpus_frequency\": 64}, {\"words\": \"favorite_games\", \"keyness\": 42.044, \"corpus_frequency\": 443, \"subcorpus_frequency\": 107}, {\"words\": \"never_buy\", \"keyness\": 42.005, \"corpus_frequency\": 121, \"subcorpus_frequency\": 11}, {\"words\": \"daughter_loves\", \"keyness\": 41.587, \"corpus_frequency\": 162, \"subcorpus_frequency\": 21}, {\"words\": \"buen_producto\", \"keyness\": 41.281, \"corpus_frequency\": 54, \"subcorpus_frequency\": 0}, {\"words\": \"customer_service\", \"keyness\": 41.175, \"corpus_frequency\": 184, \"subcorpus_frequency\": 27}, {\"words\": \"super_mario\", \"keyness\": 40.788, \"corpus_frequency\": 1315, \"subcorpus_frequency\": 434}, {\"words\": \"excelent_product\", \"keyness\": 39.752, \"corpus_frequency\": 52, \"subcorpus_frequency\": 0}, {\"words\": \"whole_family\", \"keyness\": 39.543, \"corpus_frequency\": 230, \"subcorpus_frequency\": 41}, {\"words\": \"year_old\", \"keyness\": 39.454, \"corpus_frequency\": 1303, \"subcorpus_frequency\": 432}, {\"words\": \"great_buy\", \"keyness\": 39.25, \"corpus_frequency\": 320, \"subcorpus_frequency\": 69}, {\"words\": \"felt_like\", \"keyness\": 38.339, \"corpus_frequency\": 855, \"subcorpus_frequency\": 560}, {\"words\": \"bought_gift\", \"keyness\": 38.261, \"corpus_frequency\": 119, \"subcorpus_frequency\": 12}, {\"words\": \"game_must\", \"keyness\": 38.237, \"corpus_frequency\": 509, \"subcorpus_frequency\": 134}, {\"words\": \"hard_drive\", \"keyness\": 37.164, \"corpus_frequency\": 614, \"subcorpus_frequency\": 173}, {\"words\": \"product_arrived\", \"keyness\": 36.996, \"corpus_frequency\": 66, \"subcorpus_frequency\": 2}, {\"words\": \"old_loves\", \"keyness\": 36.766, \"corpus_frequency\": 141, \"subcorpus_frequency\": 18}, {\"words\": \"product_recommend\", \"keyness\": 36.495, \"corpus_frequency\": 58, \"subcorpus_frequency\": 1}, {\"words\": \"good_condition\", \"keyness\": 35.995, \"corpus_frequency\": 261, \"subcorpus_frequency\": 53}, {\"words\": \"video_games\", \"keyness\": 35.784, \"corpus_frequency\": 1561, \"subcorpus_frequency\": 543}, {\"words\": \"game_best\", \"keyness\": 35.283, \"corpus_frequency\": 829, \"subcorpus_frequency\": 256}, {\"words\": \"great_love\", \"keyness\": 34.614, \"corpus_frequency\": 129, \"subcorpus_frequency\": 16}, {\"words\": \"gameplay_awesome\", \"keyness\": 34.571, \"corpus_frequency\": 90, \"subcorpus_frequency\": 7}, {\"words\": \"money_back\", \"keyness\": 34.454, \"corpus_frequency\": 108, \"subcorpus_frequency\": 11}, {\"words\": \"kids_loved\", \"keyness\": 34.184, \"corpus_frequency\": 62, \"subcorpus_frequency\": 2}, {\"words\": \"price_fast\", \"keyness\": 34.184, \"corpus_frequency\": 62, \"subcorpus_frequency\": 2}, {\"words\": \"product_excellent\", \"keyness\": 34.184, \"corpus_frequency\": 62, \"subcorpus_frequency\": 2}, {\"words\": \"great_games\", \"keyness\": 33.605, \"corpus_frequency\": 507, \"subcorpus_frequency\": 139}, {\"words\": \"item_arrived\", \"keyness\": 33.532, \"corpus_frequency\": 73, \"subcorpus_frequency\": 4}, {\"words\": \"game_year\", \"keyness\": 32.956, \"corpus_frequency\": 625, \"subcorpus_frequency\": 183}, {\"words\": \"came_time\", \"keyness\": 32.939, \"corpus_frequency\": 156, \"subcorpus_frequency\": 24}, {\"words\": \"classics_best\", \"keyness\": 32.872, \"corpus_frequency\": 43, \"subcorpus_frequency\": 0}, {\"words\": \"love_playing\", \"keyness\": 32.221, \"corpus_frequency\": 229, \"subcorpus_frequency\": 46}, {\"words\": \"best_video\", \"keyness\": 32.038, \"corpus_frequency\": 128, \"subcorpus_frequency\": 17}, {\"words\": \"great_story\", \"keyness\": 31.725, \"corpus_frequency\": 708, \"subcorpus_frequency\": 216}, {\"words\": \"game_pretty\", \"keyness\": 31.721, \"corpus_frequency\": 1002, \"subcorpus_frequency\": 624}, {\"words\": \"awesome_product\", \"keyness\": 31.389, \"corpus_frequency\": 58, \"subcorpus_frequency\": 2}, {\"words\": \"condition_works\", \"keyness\": 30.579, \"corpus_frequency\": 40, \"subcorpus_frequency\": 0}, {\"words\": \"best_ever\", \"keyness\": 30.299, \"corpus_frequency\": 313, \"subcorpus_frequency\": 75}, {\"words\": \"lots_fun\", \"keyness\": 30.205, \"corpus_frequency\": 411, \"subcorpus_frequency\": 109}, {\"words\": \"love_product\", \"keyness\": 29.949, \"corpus_frequency\": 49, \"subcorpus_frequency\": 1}, {\"words\": \"happy_purchase\", \"keyness\": 29.895, \"corpus_frequency\": 242, \"subcorpus_frequency\": 52}, {\"words\": \"game_absolutely\", \"keyness\": 29.631, \"corpus_frequency\": 311, \"subcorpus_frequency\": 75}, {\"words\": \"hours_fun\", \"keyness\": 29.444, \"corpus_frequency\": 331, \"subcorpus_frequency\": 82}, {\"words\": \"worst_game\", \"keyness\": 29.427, \"corpus_frequency\": 166, \"subcorpus_frequency\": 29}, {\"words\": \"simply_best\", \"keyness\": 29.109, \"corpus_frequency\": 81, \"subcorpus_frequency\": 7}, {\"words\": \"quick_delivery\", \"keyness\": 29.05, \"corpus_frequency\": 38, \"subcorpus_frequency\": 0}, {\"words\": \"fast_service\", \"keyness\": 29.05, \"corpus_frequency\": 38, \"subcorpus_frequency\": 0}, {\"words\": \"piece_crap\", \"keyness\": 28.868, \"corpus_frequency\": 71, \"subcorpus_frequency\": 5}, {\"words\": \"save_money\", \"keyness\": 28.61, \"corpus_frequency\": 340, \"subcorpus_frequency\": 86}, {\"words\": \"far_best\", \"keyness\": 28.571, \"corpus_frequency\": 411, \"subcorpus_frequency\": 111}, {\"words\": \"stopped_working\", \"keyness\": 28.56, \"corpus_frequency\": 194, \"subcorpus_frequency\": 38}, {\"words\": \"super_fun\", \"keyness\": 28.374, \"corpus_frequency\": 216, \"subcorpus_frequency\": 45}, {\"words\": \"love_thanks\", \"keyness\": 28.285, \"corpus_frequency\": 37, \"subcorpus_frequency\": 0}, {\"words\": \"game_company\", \"keyness\": 27.982, \"corpus_frequency\": 88, \"subcorpus_frequency\": 9}, {\"words\": \"product_great\", \"keyness\": 27.763, \"corpus_frequency\": 127, \"subcorpus_frequency\": 19}, {\"words\": \"awesome_gameplay\", \"keyness\": 27.615, \"corpus_frequency\": 69, \"subcorpus_frequency\": 5}, {\"words\": \"described_fast\", \"keyness\": 27.521, \"corpus_frequency\": 36, \"subcorpus_frequency\": 0}, {\"words\": \"love_works\", \"keyness\": 27.521, \"corpus_frequency\": 36, \"subcorpus_frequency\": 0}, {\"words\": \"best_fighting\", \"keyness\": 27.273, \"corpus_frequency\": 111, \"subcorpus_frequency\": 15}, {\"words\": \"favorite_game\", \"keyness\": 27.068, \"corpus_frequency\": 499, \"subcorpus_frequency\": 145}, {\"words\": \"worst_games\", \"keyness\": 27.042, \"corpus_frequency\": 82, \"subcorpus_frequency\": 8}, {\"words\": \"good_price\", \"keyness\": 26.86, \"corpus_frequency\": 391, \"subcorpus_frequency\": 106}, {\"words\": \"arrived_quickly\", \"keyness\": 26.847, \"corpus_frequency\": 86, \"subcorpus_frequency\": 9}, {\"words\": \"play_game\", \"keyness\": 26.821, \"corpus_frequency\": 3635, \"subcorpus_frequency\": 1443}, {\"words\": \"buy_seller\", \"keyness\": 26.633, \"corpus_frequency\": 57, \"subcorpus_frequency\": 3}, {\"words\": \"games_universe\", \"keyness\": 26.339, \"corpus_frequency\": 44, \"subcorpus_frequency\": 1}, {\"words\": \"xbox_live\", \"keyness\": 26.239, \"corpus_frequency\": 848, \"subcorpus_frequency\": 280}, {\"words\": \"true_classic\", \"keyness\": 26.108, \"corpus_frequency\": 93, \"subcorpus_frequency\": 11}, {\"words\": \"true_classics\", \"keyness\": 25.856, \"corpus_frequency\": 50, \"subcorpus_frequency\": 2}, {\"words\": \"amazing_love\", \"keyness\": 25.856, \"corpus_frequency\": 50, \"subcorpus_frequency\": 2}, {\"words\": \"great_quality\", \"keyness\": 25.836, \"corpus_frequency\": 171, \"subcorpus_frequency\": 33}, {\"words\": \"new_condition\", \"keyness\": 25.313, \"corpus_frequency\": 55, \"subcorpus_frequency\": 3}, {\"words\": \"game_highly\", \"keyness\": 25.277, \"corpus_frequency\": 283, \"subcorpus_frequency\": 70}, {\"words\": \"excellent_seller\", \"keyness\": 25.227, \"corpus_frequency\": 33, \"subcorpus_frequency\": 0}, {\"words\": \"works_perfect\", \"keyness\": 24.888, \"corpus_frequency\": 121, \"subcorpus_frequency\": 19}, {\"words\": \"another_great\", \"keyness\": 24.786, \"corpus_frequency\": 255, \"subcorpus_frequency\": 61}, {\"words\": \"must_game\", \"keyness\": 24.704, \"corpus_frequency\": 145, \"subcorpus_frequency\": 26}, {\"words\": \"game_buy\", \"keyness\": 24.549, \"corpus_frequency\": 424, \"subcorpus_frequency\": 121}, {\"words\": \"awesome_love\", \"keyness\": 24.524, \"corpus_frequency\": 86, \"subcorpus_frequency\": 10}, {\"words\": \"star_wars\", \"keyness\": 24.516, \"corpus_frequency\": 1515, \"subcorpus_frequency\": 554}, {\"words\": \"works_flawlessly\", \"keyness\": 24.51, \"corpus_frequency\": 94, \"subcorpus_frequency\": 12}, {\"words\": \"loved_game\", \"keyness\": 24.492, \"corpus_frequency\": 486, \"subcorpus_frequency\": 144}, {\"words\": \"worth_money\", \"keyness\": 24.492, \"corpus_frequency\": 737, \"subcorpus_frequency\": 240}, {\"words\": \"games_love\", \"keyness\": 23.998, \"corpus_frequency\": 279, \"subcorpus_frequency\": 70}, {\"words\": \"recommend_everyone\", \"keyness\": 23.987, \"corpus_frequency\": 93, \"subcorpus_frequency\": 12}, {\"words\": \"shipped_fast\", \"keyness\": 23.85, \"corpus_frequency\": 58, \"subcorpus_frequency\": 4}, {\"words\": \"graphics_amazing\", \"keyness\": 23.73, \"corpus_frequency\": 377, \"subcorpus_frequency\": 105}, {\"words\": \"love_games\", \"keyness\": 23.56, \"corpus_frequency\": 197, \"subcorpus_frequency\": 43}]}}, {\"mode\": \"vega-lite\"});\n",
              "</script>"
            ]
          },
          "metadata": {
            "tags": []
          },
          "execution_count": 35
        }
      ]
    },
    {
      "cell_type": "markdown",
      "metadata": {
        "id": "MVg6YcGLp4qB",
        "colab_type": "text"
      },
      "source": [
        "## See the context\n",
        "First, we have to make nltk corpora from the subcorpora."
      ]
    },
    {
      "cell_type": "code",
      "metadata": {
        "id": "oIBIwBhyp9Mp",
        "colab_type": "code",
        "colab": {}
      },
      "source": [
        "import nltk\n",
        "\n",
        "positive_texts = [reviews[i] for i in range(len(reviews)) if predicted_class[i] == 2]\n",
        "negative_texts = [reviews[i] for i in range(len(reviews)) if predicted_class[i] == 0]\n",
        "neutral_texts = [reviews[i] for i in range(len(reviews)) if predicted_class[i] == 1]\n",
        "\n",
        "positive_texts = \"\\n\".join(positive_texts)\n",
        "negative_texts = \"\\n\".join(negative_texts)\n",
        "neutral_texts = \"\\n\".join(neutral_texts)\n",
        "\n",
        "def make_text_corpus(text):\n",
        "    tokens = nltk.word_tokenize(text)\n",
        "    return nltk.Text(tokens)\n",
        "\n",
        "\n",
        "positive_text = make_text_corpus(positive_texts)\n",
        "negative_text = make_text_corpus(negative_texts)\n",
        "neutral_text = make_text_corpus(neutral_texts)"
      ],
      "execution_count": null,
      "outputs": []
    },
    {
      "cell_type": "markdown",
      "metadata": {
        "id": "xYlJf6cEqyvO",
        "colab_type": "text"
      },
      "source": [
        "Now, we can check the context of words."
      ]
    },
    {
      "cell_type": "code",
      "metadata": {
        "id": "Tiatv62dsKL0",
        "colab_type": "code",
        "colab": {}
      },
      "source": [
        "words_to_check = [\n",
        "    \"word\",\n",
        "    \"great\",\n",
        "    \"game\",\n",
        "    \"love\",\n",
        "    \"works\",\n",
        "    \"highly\",\n",
        "    \"recommend\",\n",
        "    \"best\",\n",
        "    \"product\",\n",
        "    \"awesome\",\n",
        "    \"best\",\n",
        "    \"ever\",\n",
        "    \"great\",\n",
        "    \"excellent\"\n",
        "]\n",
        "\n",
        "for wd in words_to_check:\n",
        "    positive_text.concordance(wd)\n"
      ],
      "execution_count": null,
      "outputs": []
    }
  ]
}